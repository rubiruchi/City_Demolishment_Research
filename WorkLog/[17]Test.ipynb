{
 "cells": [
  {
   "cell_type": "code",
   "execution_count": 1,
   "metadata": {
    "collapsed": true
   },
   "outputs": [],
   "source": [
    "from CTILP_Optimization_Baltimore import *\n",
    "%matplotlib inline"
   ]
  },
  {
   "cell_type": "code",
   "execution_count": 2,
   "metadata": {},
   "outputs": [
    {
     "name": "stderr",
     "output_type": "stream",
     "text": [
      "Self-intersection at or near point -76.603476837716656 39.296847746533537\n",
      "Self-intersection at or near point -76.616428799999994 39.291846100000001\n",
      "Self-intersection at or near point -76.613582164696879 39.298842597631051\n"
     ]
    },
    {
     "name": "stdout",
     "output_type": "stream",
     "text": [
      "initial setting set\n",
      "initial house set\n",
      "initial edge set\n",
      "initial HORV\n",
      "initial comparehouses\n"
     ]
    }
   ],
   "source": [
    "m = OSMNX_Map(same = True) #meters\n",
    "#m.plot()[0]"
   ]
  },
  {
   "cell_type": "code",
   "execution_count": null,
   "metadata": {},
   "outputs": [
    {
     "data": {
      "text/plain": [
       "True"
      ]
     },
     "execution_count": 3,
     "metadata": {},
     "output_type": "execute_result"
    }
   ],
   "source": [
    "len(m.Houses) == len(m.Renters) + len(m.Vacants)"
   ]
  },
  {
   "cell_type": "code",
   "execution_count": null,
   "metadata": {},
   "outputs": [],
   "source": [
    "#CompareHouses = [(x,y) for x in m.Vacants for y in m.Renters]"
   ]
  },
  {
   "cell_type": "code",
   "execution_count": null,
   "metadata": {
    "collapsed": true
   },
   "outputs": [],
   "source": [
    "model_60normal = ILP_sol(m.Houses, m.Edge, m.gdf)\n",
    "model_60normal.initial_price(Budget = 500000)\n",
    "model_60normal.update_model_OSMNX(distance_OSMNX,affect_OSMNX,Occupied = m.Renters, Vacant = m.Vacants\n",
    "                                  ,power = 1, d_e = 60, model = 2)\n",
    "#for i in xrange(5):\n",
    "#    model_60normal.solve()\n",
    "#    m.plot(model_60normal.x, size = 10, name = \"bigM_weightfunc(1)_distance_60_normal\"+str(i) )\n",
    "#    model_60normal.no_good_update()"
   ]
  },
  {
   "cell_type": "code",
   "execution_count": null,
   "metadata": {
    "collapsed": true
   },
   "outputs": [],
   "source": []
  }
 ],
 "metadata": {
  "kernelspec": {
   "display_name": "Python 2",
   "language": "python",
   "name": "python2"
  },
  "language_info": {
   "codemirror_mode": {
    "name": "ipython",
    "version": 2
   },
   "file_extension": ".py",
   "mimetype": "text/x-python",
   "name": "python",
   "nbconvert_exporter": "python",
   "pygments_lexer": "ipython2",
   "version": "2.7.13"
  }
 },
 "nbformat": 4,
 "nbformat_minor": 2
}
