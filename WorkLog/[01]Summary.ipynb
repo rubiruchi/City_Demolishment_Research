{
 "cells": [
  {
   "cell_type": "code",
   "execution_count": 1,
   "metadata": {
    "collapsed": true
   },
   "outputs": [],
   "source": [
    "from gurobipy import *\n",
    "import random\n",
    "from random import randint\n",
    "#import numpy as np, numpy.random"
   ]
  },
  {
   "cell_type": "markdown",
   "metadata": {},
   "source": [
    "# Optimization\n",
    "# 1. Variables & Constraint"
   ]
  },
  {
   "cell_type": "markdown",
   "metadata": {},
   "source": [
    "#### Let $B_T$ to be the total budget\n",
    "#### Let $H = O \\uplus V \\uplus R= \\{1 \\dots n\\}$ to be the set represents the housing stock of the city\n",
    "#### Let $O \\subseteq H$ to be the set represents the houses occupied by owner\n",
    "#### Let $R \\subseteq H$ to be the set represents the houses occupied by renter\n",
    "#### Let $V \\subseteq H$ to be the set represents the houses are vacant\n",
    "#### Let $E$ to be the collection of all neighbors\n",
    "#### Let $C = \\{ (i,j) \\; | \\; i\\in O\\uplus R , j \\in V \\}$\n",
    "###### Let $I_{V}(i)$ to be an indicator function represents that if the houses are vacant  \n",
    "###### Let $I_{O}(i)$ to be an indicator function represents that if the houses are occupied by owner  \n",
    "###### Let $I_{R}(i)$ to be an indicator function represents that if the houses are occupied by renter\n",
    "###### Let $I_{S_2}(i)$ to be an indicator function represents that if the houses are 2-Stroy\n",
    "###### Let $I_{S_3}(i)$ to be an indicator function represents that if the houses are 3-Story "
   ]
  },
  {
   "cell_type": "markdown",
   "metadata": {},
   "source": [
    "## - cost variables\n",
    "\n",
    "###### Let $c_i$ to be the cost to demplish house i\n",
    ">$$ c_i = 13000\\times I_{S_2}(i) + 22000 \\times I_{S_3}(i) + 85000 \\times I_{R}(i) + 170000 \\times I_{O}(i) $$\n",
    "\n",
    "###### Let $w_{ij}$ to be the average price building the wall between houses ij, and $w_i$ and $w_j$ to be the difference between the price to build the wall for building $i/j$ minus $w_{ij}$ for all $(i,j) \\in E$\n",
    ">$$ w_{ij} = {14000\\times I_{S_2}(i) + 25000\\times I_{S_3}(i) + 14000\\times I_{S_2}(j) + 25000\\times I_{S_3}(j)\\over 2 } $$\n",
    ">$$ \\mbox{ which won't be affacted by the value of} x_i \\mbox{ and } x_j $$\n",
    "\n",
    ">$$ w_i = (14000\\times I_{S_2}(i) + 25000\\times I_{S_3}(i)) - w_{ij} $$\n",
    ">$$ w_j = (14000\\times I_{S_2}(j) + 25000\\times I_{S_3}(j)) - w_{ij} $$\n",
    "\n",
    ">$\\therefore$ The cost for building the wall will be\n",
    "> $$ w_{ij}z_{ij} + w_i(1-x_i) + w_j(1-x_j) $$\n",
    ">> Note that when houses ij have same height, $w_i$ and $w_j$ will be 0 \n",
    "\n",
    ">> and when $z_{ij} = 0$, $w_i(1-x_i) + w_j(1-x_j) = 0$.\n",
    "\n",
    "#### Let $p_{ij}$ to be th cost reduction building i,j demolish together for all $(i,j) \\in E$\n",
    "> Let's set $p_{ij}$ is same for neighbors\n"
   ]
  },
  {
   "cell_type": "markdown",
   "metadata": {},
   "source": [
    "## - Optimization Variables\n",
    "\n",
    "###### Let $x_i$  to be a binary variable  $\\forall i \\in H$, which if $x_i$ = 1 then house i would be demolished\n",
    "###### Let $z_{ij} = x_i\\oplus x_j \\;\\; \\forall (ij) \\in E$\n",
    "$$ \\begin{array}{rll}\n",
    "    \\text{s.t.} & x_i - x_j - z_{ij} \\leq 0 \\\\\n",
    "                & x_j - x_i - z_{ij} \\leq 0 \\\\\n",
    "                & x_i + x_j + z_{ij} \\leq 2 \\\\\n",
    "                &-x_i - x_j + z_{ij} \\leq 0 \\\\ \n",
    "                & z_{ij} \\in \\{0,1\\}\n",
    "    \\end{array}\n",
    "$$\n",
    "###### Let $y_{ij} = x_i\\times x_j \\;\\; \\forall (ij) \\in E$\n",
    "$$ \\begin{array}{rll}\n",
    "    \\text{s.t.} & x_i + x_j - y_{ij} \\leq 1 \\\\\n",
    "                & -x_i + y_{ij} \\leq 0 \\\\\n",
    "                & -x_j + y_{ij} \\leq 0 \\\\\n",
    "                & y_{ij} = \\{0,1\\}\n",
    "    \\end{array}\n",
    "$$\n",
    "\n"
   ]
  },
  {
   "cell_type": "markdown",
   "metadata": {},
   "source": [
    "## - Total Cost Constraint\n",
    "\n",
    "$$  \n",
    "    \\sum_{i} c_ix_i +  \\sum_{(ij) \\in E}w_{ij}(x_i \\oplus x_j) + \\sum_{(ij) \\in E} w_i(1-x_i) + \\sum_{(ij) \\in E} w_j(1-x_j)  -\\sum_{(ij) \\in E}p_{ij}x_ix_j  \\\\ = \\sum_{i} c_ix_i +  \\sum_{(ij) \\in E}w_{ij}z_{ij} + \\sum_{(ij) \\in E} w_i(1-x_i) + \\sum_{(ij) \\in E} w_j(1-x_j) -\\sum_{(ij) \\in E}p_{ij}y_{ij} \\leq B_T\n",
    "$$\n",
    "\n",
    "- update version (01-10-18)\n",
    "\n",
    "$$  \n",
    "    \\sum_{i} c_ix_i + \\sum_{(ij) \\in E} w_i(1-x_i)x_j + \\sum_{(ij) \\in E} w_j(1-x_j)x_i -\\sum_{(ij) \\in E}p_{ij}y_{ij} \n",
    "    \\\\ = \\sum_{i} c_ix_i + \\sum_{(ij) \\in E} w_ix_j + \\sum_{(ij) \\in E} w_jx_i -\\sum_{(ij) \\in E}(w_i+w_j+p_{ij})y_{ij}  \\leq B_T\n",
    "$$\n",
    "\n",
    "> - We only need $y_{ij}$\n",
    "> - Note that $w_i$ and $w_j$ here is the cost for each building (not what we defined before)\n",
    "\n",
    "\n",
    "\n"
   ]
  },
  {
   "cell_type": "markdown",
   "metadata": {},
   "source": [
    "# 2. Objective Function\n",
    "\n",
    "## - Tearing down as many vacant houses as possible (Original)\n",
    "\n",
    "> $$ \\max \\sum_{i\\in V} x_i $$\n",
    "\n",
    "## - Weight Function (New)\n",
    "\n",
    "#### Let $h_{i,j} \\in R \\geq 0$ to be the function for all $i \\in O\\uplus R$ and $j \\in V$ as measurement\n",
    "\n",
    "> Note that $h_{i,j}$ is a function to measure the cumulative happiness/ profit/ the probibility to be safe for every pair $(i,j)$ where $i \\in O\\uplus R$ , $j \\in V$ in the database\n",
    "\n",
    "--------------\n",
    "\n",
    "\n",
    "> ##### $h_{i,j}$ can be ... \n",
    "\n",
    "> - Cumulative risk for each house in $ O\\uplus R$ : $\\sum_{j\\in V} h_{i,j}$\n",
    "\n",
    "> - propotional to the ${1\\over d^c}$\n",
    "\n",
    "> - Indicator function \n",
    "\n"
   ]
  },
  {
   "cell_type": "markdown",
   "metadata": {},
   "source": [
    "# 3. ILP Model (01-10-18)"
   ]
  },
  {
   "cell_type": "markdown",
   "metadata": {},
   "source": [
    "## - Weight Function ILP\n",
    "\n",
    "$$ \\begin{array}{rll}\n",
    "    \\text{min} & \\sum_{i,j\\in C} h_{i,j}(1-x_i)(1-x_j) \\\\\n",
    "    =\\text{min} & \\sum_{i,j\\in C} h_{i,j}(1-x_i -x_j+y_{ij}) \\\\\n",
    "    \\\\[1pt] \n",
    "    \\text{s.t.} &  \\sum_{i} c_ix_i + \\sum_{(ij) \\in E} w_ix_j + \\sum_{(ij) \\in E} w_jx_i -\\sum_{(ij) \\in E}(w_i+w_j+p_{ij})y_{ij}  \\leq B_T \\\\\n",
    "    \\\\\n",
    "    & \\forall (i,j) \\in E \\uplus C\\\\\n",
    "    & \\;\\;\\;\\;\\;x_i + x_j - y_{ij} \\leq 1 \\\\\n",
    "    & \\;\\;\\;\\;\\;-x_i + y_{ij} \\leq 0 \\\\\n",
    "    & \\;\\;\\;\\;\\;-x_j + y_{ij} \\leq 0 \\\\\n",
    "    \\\\\n",
    "    & x_i \\in \\lbrace 0,1 \\rbrace \\;\\; \\forall  i \\in H\\\\\n",
    "    & y_{ij} \\in \\lbrace 0,1 \\rbrace \\;\\; \\forall  (i,j) \\in E \\uplus C\\\\\n",
    "    \\end{array}\n",
    "$$\n",
    "\n",
    "###### $\\hspace{7cm}$ ~~(Plus the constraint for the delta method)~~\n",
    "\n",
    "\n",
    "> - To save space, we can set all (i, j) pair in E to be in same format as C if possible. ( Depends on how we construct C )"
   ]
  },
  {
   "cell_type": "markdown",
   "metadata": {},
   "source": [
    "- #### ~~Delta Method for Wight Function ILP (old slide)~~\n",
    "\n",
    "> - New Variables\n",
    "\n",
    "> Let $d_e$ to be the max distance that the vacant house will have affect the safety of the occupied house \n",
    "\n",
    "> Let $\\delta_{ij} = (1-x_i)(1-x_j) \\;\\; \\forall i \\in O\\uplus R \\;,\\;\\forall j \\in V$\n",
    "$$ \\begin{array}{rll}\n",
    "    \\text{s.t.} & -\\delta_{ij} - x_i - x_j  \\leq -1 \\\\\n",
    "                & x_i + \\delta_{ij} \\leq 1 \\\\\n",
    "                & x_j + \\delta_{ij} \\leq 1 \\\\\n",
    "                & \\delta_{ij} = \\{0,1\\}\n",
    "    \\end{array}\n",
    "$$\n",
    "> - Then the number of variables $$= |H| + 2|E| + |O\\uplus R|\\times|V| $$\n",
    "\n",
    "\n",
    "\n",
    "\n",
    "> $\\delta_{ij} $ will affect the result iff both houses i,j are not demolished.\n",
    "$$ C = \\{ (i,j) \\;\\;|\\;\\; i \\in O \\uplus R \\;\\;\\text{ and }\\;\\; j \\in V \\} \\\\ $$\n",
    "$$ \\begin{array}{rll}\n",
    "    & \\forall\\; (i,j)\\in C \\\\\n",
    "    & \\;\\;\\;\\;\\;x_i + \\delta_{ij} \\leq 1 \\\\\n",
    "    & \\;\\;\\;\\;\\;x_j + \\delta_{ij} \\leq 1 \\\\\n",
    "    & \\;\\;\\;\\;\\;-x_i - x_j - \\delta_{ij} \\leq -1 \\\\\n",
    "    & \\delta_{ij} \\in \\lbrace 0,1 \\rbrace \\\\[1pt]\\\\\n",
    "    \\end{array}\n",
    "$$"
   ]
  },
  {
   "cell_type": "markdown",
   "metadata": {},
   "source": [
    "## - Weight Function ILP Transformation (Big M method)\n",
    "\n",
    "$$ \\min\\sum_{i}\\sum_{j} h_{i,j}(1-x_i)(1-x_j) $$\n",
    "$$ = \\max -\\sum_{i}\\sum_{j} h_{i,j}(1-x_i)(1-x_j) = \\max \\sum_{i}\\sum_{j} h_{i,j}(1-x_i)(x_j-1) $$ \n",
    "\n",
    "> Therefore, when $x_i = 0 $\n",
    "\n",
    "> We get\n",
    "\n",
    "> $$ \\min \\sum_j h_{i,j} (1-x_j) = \\max \\sum_j h_{i,j} (x_j-1) $$\n",
    "\n",
    "> then we can set $t_i$ to be\n",
    "\n",
    "> $$ t_i \\leq \\sum_j h_{i,j}(x_j-1) \\;,\\; \\mbox{ for all } j \\in V$$\n",
    "\n",
    "> and $$ t_i \\leq M(1-x_i) $$\n",
    "\n",
    "However, by the way we set up the firt inequality to be negative, no matter what $x_i$ is, the second inequality will always satisfy the first inequality. Thus, we should let the first bound to be sufficient large if the $x_i = 0$.\n",
    "\n",
    "> $$ \\therefore \\;\\;\\forall \\; i \\in O\\uplus R \\;\\;\\; ,\\;\\; t_i \\leq \\sum_{j\\in V} h_{i,j}(x_j-1)  + Mx_i $$\n",
    "\n",
    "\n",
    "Thus when $x_i = 0$, $\\max t_i = 0$ which means there is no effect for occupied house i. The objective optimal value will be the negative optimal value of the original problem\n",
    "\n",
    "  $$\\begin{array}{rll}\n",
    "    & \\forall \\;i \\in O \\uplus R \\\\\n",
    "    & t_{i} \\leq \\sum_{j\\in V}h_{i,j}(x_j-1) + M(x_i) \\\\ \n",
    "    & t_{i} \\in \\{-\\infty,0\\} \\\\[1pt]\\\\\n",
    "    & \\text{max} \\;\\;\\; \\sum_{i \\in O\\uplus R} \\; t_{i} \\\\\n",
    "    \\end{array}$$"
   ]
  },
  {
   "cell_type": "markdown",
   "metadata": {},
   "source": [
    "Thus, The new ILP model will be\n",
    "\n",
    "$$ \\begin{array}{rll}\n",
    "    \\text{max} & \\sum_{i \\in O\\uplus R} \\; t_{i}  \\\\\n",
    "    \\\\[1pt] \n",
    "    \\text{s.t.} &  \\sum_{i} c_ix_i + \\sum_{(ij) \\in E} w_ix_j + \\sum_{(ij) \\in E} w_jx_i -\\sum_{(ij) \\in E}(w_i+w_j+p_{ij})y_{ij}  \\leq B_T \\\\\n",
    "    \\\\\n",
    "    & \\forall (i,j) \\in E \\\\\n",
    "    & \\;\\;\\;\\;\\;x_i + x_j - y_{ij} \\leq 1 \\\\\n",
    "    & \\;\\;\\;\\;\\;-x_i + y_{ij} \\leq 0 \\\\\n",
    "    & \\;\\;\\;\\;\\;-x_j + y_{ij} \\leq 0 \\\\\n",
    "    & \\forall \\;i \\in O \\uplus R \\\\\n",
    "    & \\;\\;\\;\\;\\; t_{i} \\leq \\sum_{j\\in V}h_{i,j}(x_j-1) + M(x_i) \\\\\n",
    "    \\\\\n",
    "    & x_i \\in \\lbrace 0,1 \\rbrace \\;\\; \\forall  i \\in H\\\\\n",
    "    & y_{ij} \\in \\lbrace 0,1 \\rbrace \\;\\; \\forall  (i,j) \\in E \\\\\n",
    "    & t_i \\; \\in \\lbrace -\\infty,0 \\rbrace \\;\\; \\forall  i \\in O\\uplus R \\\\\n",
    "    \\end{array}\n",
    "$$\n"
   ]
  },
  {
   "cell_type": "markdown",
   "metadata": {},
   "source": [
    "### > Complexity Analysis after using Big M \n",
    "\n",
    "- num of ILP variables\n",
    "\n",
    "> - Before: $$= |O\\uplus R \\uplus V| + |E| \\uplus |O\\uplus R|\\times|V| \\leq |H| + |E| + |C| $$\n",
    "\n",
    "> - Big M Method: $$= |H| + |E| + |O\\uplus R|$$\n",
    "\n",
    "- num of constraint\n",
    "\n",
    "> - Before: $$ \\leq  1 + 3|E| + 3|C|$$\n",
    "\n",
    "> - Big M Method: $$= 1 + 3|E| +  |O\\uplus R|$$\n",
    "\n",
    "\n"
   ]
  },
  {
   "cell_type": "markdown",
   "metadata": {
    "collapsed": true
   },
   "source": [
    "# 4. Example \n",
    "$$ \\begin{array}{rll} & x_1 \\hspace{10cm} o_4 - x_2 - o_5\\\\ \n",
    "    & | \\hspace{10cm}\\;\\;\\;\\;\\;\\;\\;\\;\\;\\; | \\\\\n",
    "    & o_3 \\hspace{10cm}\\;\\;\\;\\;\\;\\;\\; o_6 \n",
    "\\end{array} $$"
   ]
  },
  {
   "cell_type": "markdown",
   "metadata": {
    "collapsed": true
   },
   "source": [
    "### Grid Map"
   ]
  },
  {
   "cell_type": "code",
   "execution_count": 2,
   "metadata": {
    "collapsed": true
   },
   "outputs": [],
   "source": [
    "from IPython.display import HTML as html_print\n",
    "def PrintResult(m,x):\n",
    "    border = \"-\"\n",
    "    for i in xrange(len(m[0])):\n",
    "        border += \"-\"\n",
    "    border = 2*border \n",
    "    print border\n",
    "    \n",
    "    for i in xrange(len(m)):\n",
    "        temp = \"|\"\n",
    "        for j in xrange(len(m[i])):\n",
    "            if m[i][j][0] != 0:\n",
    "                if x[m[i][j]].X == 1.0 or (abs(x[m[i][j]].X - 1.0) <= 0.0000001):\n",
    "                    temp += \"\\x1b[41m\" + str(m[i][j][0]) + \"\\x1b[0m \"  #ANSI escape code\n",
    "                else:\n",
    "                    temp += str(m[i][j][0]) + \" \"\n",
    "            else:\n",
    "                temp += \"  \"\n",
    "                                \n",
    "            \n",
    "        print temp + \"|\"\n",
    "    print border"
   ]
  },
  {
   "cell_type": "code",
   "execution_count": 3,
   "metadata": {
    "collapsed": true
   },
   "outputs": [],
   "source": [
    "def GetGridMap(size=15,example = None):\n",
    "    \n",
    "    Size = size\n",
    "    CRoads = random.sample(xrange(1,Size-2), randint(2,Size/2))\n",
    "    RRoads = random.sample(xrange(1,Size-2), randint(2,Size/2))\n",
    "    Map = [[[0,(i,j),None] if (i == 0 or j==0 \n",
    "                    or i == Size-1 or j == Size-1 \n",
    "                    or i in RRoads or j in CRoads) else [1,(i,j),None] \n",
    "            for i in xrange(Size)] \n",
    "                for j in xrange(Size)]\n",
    "    \n",
    "    return Map"
   ]
  },
  {
   "cell_type": "code",
   "execution_count": 4,
   "metadata": {
    "collapsed": true
   },
   "outputs": [],
   "source": [
    "def HouseGenerator(m,example = None):\n",
    "    foo = [\"r\",\"o\",\"v\"]\n",
    "    if example == None:\n",
    "        for i in xrange(len(m)):\n",
    "            for j in xrange(len(m[i])):\n",
    "                if m[i][j][0] != 0:\n",
    "                    ranfoo = random.randint(0,2)\n",
    "                    m[i][j][0] = foo[ranfoo]\n",
    "                    m[i][j][2] = random.randint(2,3)\n",
    "    elif example == 1:\n",
    "        for i in xrange(len(m)):\n",
    "            for j in xrange(len(m[i])):\n",
    "                m[i][j][0] = 0\n",
    "        houses = [(\"r\",4,1),(\"v\",6,1),(\"r\",5,7),(\"v\",5,9),(\"r\",3,9),(\"r\",7,9)]\n",
    "        \n",
    "        for h,i,j in houses:\n",
    "            m[i][j][0] = h\n",
    "            m[i][j][2] = 2\n",
    "    elif example == 2:\n",
    "        for i in xrange(len(m)):\n",
    "            for j in xrange(len(m[i])):\n",
    "                m[i][j][0] = 0\n",
    "        houses = [(\"v\",2,3),(\"v\",2,4),(\"v\",2,5),(\"v\",2,6),(\"v\",2,7),\n",
    "                  (\"v\",3,3),(\"v\",4,3),(\"v\",5,3),(\"v\",6,3),\n",
    "                  (\"v\",6,4),(\"v\",6,5),(\"v\",6,6),(\"v\",6,7),\n",
    "                  (\"v\",5,7),(\"v\",4,7),(\"v\",3,7),(\"o\",4,5)\n",
    "                  ]\n",
    "        \n",
    "        for h,i,j in houses:\n",
    "            m[i][j][0] = h\n",
    "            m[i][j][2] = 2\n",
    "    \n",
    "\n",
    "def GetTupleMap(m):\n",
    "    for i in xrange(len(m)):\n",
    "        for j in xrange(len(m[i])):\n",
    "            m[i][j] = tuple(m[i][j])\n",
    "            \n",
    "def PrintMap(m):\n",
    "    border = \"-\"\n",
    "    for i in xrange(len(m[0])):\n",
    "        border += \"-\"\n",
    "    border = 2*border \n",
    "    print border\n",
    "    for row in m:\n",
    "        temp = \"|\"\n",
    "        for item in row:\n",
    "            temp += (str(item[0]) + \" \" if item[0] != 0 else \"  \")\n",
    "        print temp + \"|\"\n",
    "    print border\n",
    "    \n",
    "def GetEdgeSet(m):\n",
    "    E = []\n",
    "    for i in xrange(len(m)):\n",
    "        for j in xrange(len(m[i])):\n",
    "            if m[i][j][0] != 0 :\n",
    "                if i+1 < len(m) and m[i+1][j][0] != 0:\n",
    "                    E.append((m[i][j],m[i+1][j]))\n",
    "                if j+1 < len(m[i]) and m[i][j+1][0] != 0:\n",
    "                    E.append((m[i][j],m[i][j+1]))\n",
    "    return E"
   ]
  },
  {
   "cell_type": "code",
   "execution_count": 5,
   "metadata": {
    "collapsed": true
   },
   "outputs": [],
   "source": [
    "def GetHouseSet(m):\n",
    "    H = []\n",
    "    for i in xrange(len(m)):\n",
    "        for j in xrange(len(m[i])):\n",
    "            if m[i][j][0] != 0:\n",
    "                H.append(m[i][j])\n",
    "    return H\n",
    "def GetOwnerSet(H):\n",
    "    O = []\n",
    "    for item in H:\n",
    "        if item[0] == 'o':\n",
    "            O.append(item)\n",
    "    return O\n",
    "def GetRenterSet(H):\n",
    "    R = []\n",
    "    for item in H:\n",
    "        if item[0] == 'r':\n",
    "            R.append(item)\n",
    "    return R\n",
    "def GetVacantSet(H):\n",
    "    V = []\n",
    "    for item in H:\n",
    "        if item[0] == 'v':\n",
    "            V.append(item)\n",
    "    return V\n",
    "def GetCompareHousesSet(O,R,V):\n",
    "    C = []\n",
    "    for owner in O:\n",
    "        for vacant in V:\n",
    "            C.append((owner,vacant))\n",
    "    for renter in R:\n",
    "        for vacant in V:\n",
    "            C.append((renter,vacant))\n",
    "    return C"
   ]
  },
  {
   "cell_type": "code",
   "execution_count": 6,
   "metadata": {
    "collapsed": true
   },
   "outputs": [],
   "source": [
    "def distance(x1,x2):\n",
    "    dis = abs(x2[1][0]-x1[1][0]) + abs(x2[1][1]-x1[1][1])\n",
    "    return dis \n",
    "#print distance(Map[1][1],Map[6][8])"
   ]
  },
  {
   "cell_type": "code",
   "execution_count": 7,
   "metadata": {
    "collapsed": true
   },
   "outputs": [],
   "source": [
    "def affect(x1,x2):\n",
    "    dis = distance(x1,x2)\n",
    "    return 1.0/dis if dis <= 7 else 0\n",
    "#print affect(Map[1][1],Map[1][2])"
   ]
  },
  {
   "cell_type": "code",
   "execution_count": 21,
   "metadata": {},
   "outputs": [
    {
     "name": "stdout",
     "output_type": "stream",
     "text": [
      "------------------------------------------\n",
      "|                                        |\n",
      "|                                        |\n",
      "|                                        |\n",
      "|      r o v v   v o   r   o   v v   o   |\n",
      "|                                        |\n",
      "|      o r v o   r o   o   o   v r   o   |\n",
      "|      o r v o   o v   o   v   o o   v   |\n",
      "|      r o o o   v o   o   o   v v   r   |\n",
      "|      v v r o   v v   r   v   o v   v   |\n",
      "|      o r o o   o r   v   o   v r   v   |\n",
      "|                                        |\n",
      "|                                        |\n",
      "|      o r o v   v v   v   r   o o   r   |\n",
      "|      v o v r   r r   v   o   o o   r   |\n",
      "|      r v o r   o v   o   o   v o   v   |\n",
      "|                                        |\n",
      "|      o r o o   r v   r   o   v o   v   |\n",
      "|      o o v v   r o   r   o   r r   o   |\n",
      "|      r r o v   r r   v   o   r v   v   |\n",
      "|                                        |\n",
      "------------------------------------------\n",
      "Total Houses: 132\n"
     ]
    }
   ],
   "source": [
    "Map = GetGridMap(20)\n",
    "HouseGenerator(Map, example = None)\n",
    "GetTupleMap(Map)\n",
    "PrintMap(Map)\n",
    "Edge = GetEdgeSet(Map)\n",
    "Houses = GetHouseSet(Map)\n",
    "Owners = GetOwnerSet(Houses)\n",
    "Renters = GetRenterSet(Houses)\n",
    "Vacants = GetVacantSet(Houses)\n",
    "CompareHouses = GetCompareHousesSet(Owners,Renters,Vacants)\n",
    "# matplotlib,\n",
    "Occupied = Owners + Renters\n",
    "print \"Total Houses:\", len(Houses)"
   ]
  },
  {
   "cell_type": "code",
   "execution_count": 22,
   "metadata": {
    "collapsed": true
   },
   "outputs": [],
   "source": [
    "#print \"Variables:\" , len(CompareHouses) + len(Houses) + 2*len(Edge)"
   ]
  },
  {
   "cell_type": "markdown",
   "metadata": {},
   "source": [
    "### Approximate cost "
   ]
  },
  {
   "cell_type": "code",
   "execution_count": 30,
   "metadata": {
    "collapsed": true
   },
   "outputs": [],
   "source": [
    "Budget = 200000\n",
    "demolish_2_story, demolish_3_story = 13000, 22000\n",
    "r_relocate, o_relocate = 85000, 170000\n",
    "wall_2_story, wall_3_story = 14000, 25000\n",
    "cost_reduction = 2000"
   ]
  },
  {
   "cell_type": "code",
   "execution_count": 31,
   "metadata": {
    "collapsed": true
   },
   "outputs": [],
   "source": [
    "# cost\n",
    "Cost = [ (13000 if item[2]==2 else 0) +\n",
    "      (22000 if item[2]==3 else 0) +\n",
    "      (85000 if item[0]== 'r' else 0) + \n",
    "      (85000 if item[0]== 'o' else 0) #170000\n",
    "        for item in Houses]\n",
    "\n",
    "# Wall cost\n",
    "Wallij = [ (7000 if item[0][2] == 2 else 0) +\n",
    "      (7000 if item[1][2] == 2 else 0) +\n",
    "      (12500 if item[0][2] == 3 else 0) + \n",
    "      (12500 if item[1][2] == 3 else 0)\n",
    "     for item in Edge]\n",
    "\n",
    "Walli = [ (14000 if Edge[i][0][2] == 2 else 0) +\n",
    "      (25000 if Edge[i][0][2] == 3 else 0) - \n",
    "       Wallij[i]\n",
    "     for i in xrange(len(Edge))]\n",
    "\n",
    "Wallj = [ (14000 if Edge[i][1][2] == 2 else 0) +\n",
    "      (25000 if Edge[i][1][2] == 3 else 0) - \n",
    "       Wallij[i] \n",
    "         for i in xrange(len(Edge))]\n",
    "\n",
    "#print Wij\n",
    "#print Wi,Wj\n",
    "\n",
    "# Rdduction\n",
    "Benefit = [ cost_reduction\n",
    "     for i in xrange(len(Edge))]\n",
    "\n",
    "# 01-10-18\n",
    "wi = [ (14000 if Edge[i][0][2] == 2 else 0) +\n",
    "      (25000 if Edge[i][0][2] == 3 else 0)\n",
    "     for i in xrange(len(Edge))]\n",
    "\n",
    "wj = [ (14000 if Edge[i][1][2] == 2 else 0) +\n",
    "      (25000 if Edge[i][1][2] == 3 else 0)\n",
    "         for i in xrange(len(Edge))]"
   ]
  },
  {
   "cell_type": "code",
   "execution_count": 32,
   "metadata": {
    "scrolled": true
   },
   "outputs": [
    {
     "name": "stdout",
     "output_type": "stream",
     "text": [
      "Cost: [98000, 98000, 22000, 22000, 22000]\n",
      "Wallij: [14000, 19500, 25000, 25000, 19500]\n",
      "Walli: [0, -5500, 0, 0, 5500]\n",
      "Wallj: [0, 5500, 0, 0, -5500]\n",
      "Wall for i: [14000, 14000, 25000, 25000, 25000]\n",
      "Wall for j: [14000, 25000, 25000, 25000, 14000]\n",
      "cost reduction: [2000, 2000, 2000, 2000, 2000]\n"
     ]
    }
   ],
   "source": [
    "print \"Cost:\" , Cost[:5]\n",
    "print \"Wallij:\" , Wallij[:5]\n",
    "print \"Walli:\", Walli[:5]\n",
    "print \"Wallj:\", Wallj[:5]\n",
    "print \"Wall for i:\" , [Wallij[i]+Walli[i] for i in xrange(len(Wallij))][:5]\n",
    "print \"Wall for j:\" , [Wallij[i]+Wallj[i] for i in xrange(len(Wallij))][:5]\n",
    "print \"cost reduction:\" , Benefit[:5]"
   ]
  },
  {
   "cell_type": "code",
   "execution_count": 33,
   "metadata": {},
   "outputs": [
    {
     "name": "stdout",
     "output_type": "stream",
     "text": [
      "True\n",
      "True\n"
     ]
    }
   ],
   "source": [
    "# 01-10-18 update\n",
    "print  wi == [Wallij[i]+Walli[i] for i in xrange(len(Wallij))]\n",
    "print  wj == [Wallij[i]+Wallj[i] for i in xrange(len(Wallij))]"
   ]
  },
  {
   "cell_type": "markdown",
   "metadata": {},
   "source": [
    "### Weight Function ILP Transformation (Big M method)"
   ]
  },
  {
   "cell_type": "code",
   "execution_count": 34,
   "metadata": {
    "collapsed": true
   },
   "outputs": [],
   "source": [
    "test0 = Model() # empty\n",
    "\n",
    "x = test0.addVars(Houses,vtype = GRB.BINARY,name = \"x\")\n",
    "#z = test0.addVars(Edge,vtype = GRB.BINARY,name = \"z\")\n",
    "y = test0.addVars(Edge,vtype = GRB.BINARY,name = \"y\")\n",
    "bigM = test0.addVars(Occupied,vtype = GRB.CONTINUOUS,name = \"bigM\",lb = -GRB.INFINITY, ub = 0.0)"
   ]
  },
  {
   "cell_type": "code",
   "execution_count": 35,
   "metadata": {
    "collapsed": true
   },
   "outputs": [],
   "source": [
    "Budget_Constraint = test0.addConstr((quicksum(Cost[i]*x[Houses[i]] for i in xrange(len(Houses))) -\n",
    "                     quicksum((Benefit[i]+wi[i]+wj[i])*y[Edge[i]] for i in xrange(len(Edge))) +\n",
    "                     quicksum(wi[i]*x[Edge[i][1]] for i in xrange(len(Edge))) +\n",
    "                     quicksum(wj[i]*x[Edge[i][0]] for i in xrange(len(Edge))) \n",
    "                     <= \n",
    "                     Budget \n",
    "                    )\n",
    "                     , name = \"Budget_Constraint\")\n",
    "\"\"\"\n",
    "XOR1 = test0.addConstrs((x[Edge[i][0]] - x[Edge[i][1]] - z[Edge[i]] <= 0 \n",
    "                      for i in xrange(len(Edge))\n",
    "                     ),name = \"XOR1\")\n",
    "XOR2 = test0.addConstrs((x[Edge[i][1]] - x[Edge[i][0]] - z[Edge[i]] <= 0 \n",
    "                      for i in xrange(len(Edge))\n",
    "                     ),name = \"XOR2\")\n",
    "XOR3 = test0.addConstrs((x[Edge[i][1]] + x[Edge[i][0]] + z[Edge[i]] <= 2 \n",
    "                      for i in xrange(len(Edge))\n",
    "                     ),name = \"XOR3\")\n",
    "XOR4 = test0.addConstrs((-x[Edge[i][1]] - x[Edge[i][0]] + z[Edge[i]] <= 0 \n",
    "                      for i in xrange(len(Edge))\n",
    "                     ),name = \"XOR4\")\n",
    "\"\"\"\n",
    "\n",
    "CD1 = test0.addConstrs((x[Edge[i][1]] + x[Edge[i][0]] - y[Edge[i]] <= 1 \n",
    "                      for i in xrange(len(Edge))\n",
    "                     ),name = \"CD1\")\n",
    "\n",
    "CD2 = test0.addConstrs((-x[Edge[i][1]]  + y[Edge[i]] <= 0 \n",
    "                      for i in xrange(len(Edge))\n",
    "                     ),name = \"CD2\")\n",
    "\n",
    "CD3 = test0.addConstrs((-x[Edge[i][0]]  + y[Edge[i]] <= 0 \n",
    "                      for i in xrange(len(Edge))\n",
    "                     ),name = \"CD3\")"
   ]
  },
  {
   "cell_type": "code",
   "execution_count": 36,
   "metadata": {
    "collapsed": true
   },
   "outputs": [],
   "source": [
    "for h in Occupied:\n",
    "    total = sum( [affect(h,v) for v in Vacants])\n",
    "    test0.addConstr(( bigM[h] <= quicksum(affect(h,v)*(x[v]-1) for v in Vacants) + 1.*total*x[h] ) , name = \"for each occupied\") \n",
    "    #test0.addConstr(( bigM[h] <= 100000000000*(1-x[h]) ))\n",
    "                     #+ quicksum(affect(h,v) for v in Vacants)*x[h]), name = str(h))\n",
    "            \n",
    "            \n",
    "test0.setObjective( quicksum(bigM[i] for i in Occupied), GRB.MAXIMIZE)"
   ]
  },
  {
   "cell_type": "markdown",
   "metadata": {},
   "source": [
    "### wrtie load model"
   ]
  },
  {
   "cell_type": "code",
   "execution_count": 391,
   "metadata": {},
   "outputs": [
    {
     "name": "stdout",
     "output_type": "stream",
     "text": [
      "Warning: variable name \"x[o,(1, 1),2]\" has a space\n",
      "Warning: constraint name \"for each occupied\" has a space\n",
      "Warning: to let Gurobi read it back, use rlp format\n"
     ]
    }
   ],
   "source": [
    "test0.write('out.lp')\n",
    "test1 = read('out.lp')"
   ]
  },
  {
   "cell_type": "code",
   "execution_count": 363,
   "metadata": {},
   "outputs": [
    {
     "name": "stdout",
     "output_type": "stream",
     "text": [
      "Warning: linear constraint 397 and linear constraint 398 have the same name \"for_each_occupied\"\n",
      "Warning: default constraint names used to write mps file\n",
      "Read parameters from file mymodel.prm\n"
     ]
    }
   ],
   "source": [
    "test0.write('mymodel.mps') \n",
    "test0.write('mymodel.prm') \n",
    "\n",
    "test0 = read('mymodel.mps') \n",
    "test0.read('mymodel.prm') \n"
   ]
  },
  {
   "cell_type": "code",
   "execution_count": 37,
   "metadata": {},
   "outputs": [
    {
     "name": "stdout",
     "output_type": "stream",
     "text": [
      "Optimize a model with 533 rows, 368 columns and 2616 nonzeros\n",
      "Variable types: 88 continuous, 280 integer (280 binary)\n",
      "Coefficient statistics:\n",
      "  Matrix range     [1e-01, 2e+05]\n",
      "  Objective range  [1e+00, 1e+00]\n",
      "  Bounds range     [1e+00, 1e+00]\n",
      "  RHS range        [1e+00, 2e+05]\n",
      "Found heuristic solution: objective -321.138\n",
      "Presolve time: 0.01s\n",
      "Presolved: 533 rows, 368 columns, 2669 nonzeros\n",
      "Variable types: 83 continuous, 285 integer (280 binary)\n",
      "\n",
      "Root relaxation: objective -2.660969e+02, 344 iterations, 0.00 seconds\n",
      "\n",
      "    Nodes    |    Current Node    |     Objective Bounds      |     Work\n",
      " Expl Unexpl |  Obj  Depth IntInf | Incumbent    BestBd   Gap | It/Node Time\n",
      "\n",
      "     0     0 -266.09692    0    5 -321.13809 -266.09692  17.1%     -    0s\n",
      "     0     0 -266.37931    0    9 -321.13809 -266.37931  17.1%     -    0s\n",
      "     0     0 -267.80390    0    4 -321.13809 -267.80390  16.6%     -    0s\n",
      "     0     0 -269.08643    0   11 -321.13809 -269.08643  16.2%     -    0s\n",
      "     0     0 -269.11850    0   11 -321.13809 -269.11850  16.2%     -    0s\n",
      "     0     0 -269.13099    0   16 -321.13809 -269.13099  16.2%     -    0s\n",
      "     0     0 -269.14595    0   16 -321.13809 -269.14595  16.2%     -    0s\n",
      "     0     0 -269.15091    0   16 -321.13809 -269.15091  16.2%     -    0s\n",
      "     0     2 -269.15091    0   16 -321.13809 -269.15091  16.2%     -    0s\n",
      "*   12    10               7    -275.5357143 -269.58511  2.16%   5.7    0s\n",
      "*   17    12               8    -270.6071429 -269.58511  0.38%   5.1    0s\n",
      "\n",
      "Cutting planes:\n",
      "  Gomory: 2\n",
      "  MIR: 3\n",
      "\n",
      "Explored 44 nodes (497 simplex iterations) in 0.10 seconds\n",
      "Thread count was 4 (of 4 available processors)\n",
      "\n",
      "Solution count 3: -270.607 -275.536 -321.138 \n",
      "Pool objective bound -270.607\n",
      "\n",
      "Optimal solution found (tolerance 1.00e-04)\n",
      "Best objective -2.706071428571e+02, best bound -2.706071428571e+02, gap 0.0000%\n",
      "Optimize a model with 534 rows, 368 columns and 2623 nonzeros\n",
      "Variable types: 88 continuous, 280 integer (280 binary)\n",
      "Coefficient statistics:\n",
      "  Matrix range     [1e-01, 2e+05]\n",
      "  Objective range  [1e+00, 1e+00]\n",
      "  Bounds range     [1e+00, 1e+00]\n",
      "  RHS range        [1e+00, 2e+05]\n",
      "Found heuristic solution: objective -321.138\n",
      "Presolve time: 0.01s\n",
      "Presolved: 534 rows, 368 columns, 2676 nonzeros\n",
      "\n",
      "MIP start did not produce a new incumbent solution\n",
      "MIP start violates constraint temp by 1.000000000\n",
      "\n",
      "Variable types: 83 continuous, 285 integer (280 binary)\n",
      "\n",
      "Root relaxation: objective -2.660969e+02, 353 iterations, 0.00 seconds\n",
      "\n",
      "    Nodes    |    Current Node    |     Objective Bounds      |     Work\n",
      " Expl Unexpl |  Obj  Depth IntInf | Incumbent    BestBd   Gap | It/Node Time\n",
      "\n",
      "     0     0 -266.09692    0    5 -321.13809 -266.09692  17.1%     -    0s\n",
      "H    0     0                    -274.7071429 -266.09692  3.13%     -    0s\n",
      "     0     0 -266.71020    0    9 -274.70714 -266.71020  2.91%     -    0s\n",
      "     0     0 -266.71020    0    5 -274.70714 -266.71020  2.91%     -    0s\n",
      "H    0     0                    -271.3666667 -266.71020  1.72%     -    0s\n",
      "     0     0 -266.86515    0    3 -271.36667 -266.86515  1.66%     -    0s\n",
      "     0     0 -266.94554    0    3 -271.36667 -266.94554  1.63%     -    0s\n",
      "     0     0 -267.10476    0    1 -271.36667 -267.10476  1.57%     -    0s\n",
      "     0     0 -267.40050    0    1 -271.36667 -267.40050  1.46%     -    0s\n",
      "     0     0 -267.47109    0    8 -271.36667 -267.47109  1.44%     -    0s\n",
      "     0     0 -267.59975    0    7 -271.36667 -267.59975  1.39%     -    0s\n",
      "     0     0 -267.84346    0    9 -271.36667 -267.84346  1.30%     -    0s\n",
      "     0     0 -267.84870    0   12 -271.36667 -267.84870  1.30%     -    0s\n",
      "     0     0 -267.84870    0    4 -271.36667 -267.84870  1.30%     -    0s\n",
      "     0     0 -267.84870    0    1 -271.36667 -267.84870  1.30%     -    0s\n",
      "     0     0 -267.84870    0    1 -271.36667 -267.84870  1.30%     -    0s\n",
      "     0     0 -267.84870    0    1 -271.36667 -267.84870  1.30%     -    0s\n",
      "     0     0 -267.84870    0    5 -271.36667 -267.84870  1.30%     -    0s\n",
      "     0     0 -268.06524    0    5 -271.36667 -268.06524  1.22%     -    0s\n",
      "     0     0 -268.10278    0    6 -271.36667 -268.10278  1.20%     -    0s\n",
      "     0     0 -268.39874    0    4 -271.36667 -268.39874  1.09%     -    0s\n",
      "     0     0 -268.43519    0    5 -271.36667 -268.43519  1.08%     -    0s\n",
      "     0     2 -268.43519    0    5 -271.36667 -268.43519  1.08%     -    0s\n",
      "\n",
      "Cutting planes:\n",
      "  Gomory: 1\n",
      "  MIR: 3\n",
      "\n",
      "Explored 45 nodes (470 simplex iterations) in 0.11 seconds\n",
      "Thread count was 4 (of 4 available processors)\n",
      "\n",
      "Solution count 3: -271.367 -274.707 -321.138 \n",
      "Pool objective bound -271.367\n",
      "\n",
      "Optimal solution found (tolerance 1.00e-04)\n",
      "Best objective -2.713666666667e+02, best bound -2.713666666667e+02, gap 0.0000%\n",
      "Optimize a model with 535 rows, 368 columns and 2629 nonzeros\n",
      "Variable types: 88 continuous, 280 integer (280 binary)\n",
      "Coefficient statistics:\n",
      "  Matrix range     [1e-01, 2e+05]\n",
      "  Objective range  [1e+00, 1e+00]\n",
      "  Bounds range     [1e+00, 1e+00]\n",
      "  RHS range        [1e+00, 2e+05]\n",
      "Found heuristic solution: objective -321.138\n",
      "Presolve time: 0.01s\n",
      "Presolved: 535 rows, 368 columns, 2682 nonzeros\n",
      "\n",
      "MIP start did not produce a new incumbent solution\n",
      "MIP start violates constraint temp by 1.000000000\n",
      "\n",
      "Variable types: 83 continuous, 285 integer (280 binary)\n",
      "\n",
      "Root relaxation: objective -2.672758e+02, 341 iterations, 0.00 seconds\n",
      "\n",
      "    Nodes    |    Current Node    |     Objective Bounds      |     Work\n",
      " Expl Unexpl |  Obj  Depth IntInf | Incumbent    BestBd   Gap | It/Node Time\n",
      "\n",
      "     0     0 -267.27578    0    6 -321.13809 -267.27578  16.8%     -    0s\n",
      "     0     0 -269.35060    0    5 -321.13809 -269.35060  16.1%     -    0s\n",
      "     0     0 -269.57909    0    8 -321.13809 -269.57909  16.1%     -    0s\n",
      "     0     2 -269.57909    0    8 -321.13809 -269.57909  16.1%     -    0s\n",
      "*   15    14               6    -275.0857143 -269.75937  1.94%   2.1    0s\n",
      "H   29    23                    -272.0571429 -269.76876  0.84%   1.9    0s\n",
      "*   56    28              19    -271.5738095 -269.83909  0.64%   1.9    0s\n",
      "H  139    17                    -271.5095238 -270.35183  0.43%   1.6    0s\n",
      "\n",
      "Cutting planes:\n",
      "  Gomory: 2\n",
      "  Cover: 3\n",
      "  MIR: 1\n",
      "\n",
      "Explored 192 nodes (648 simplex iterations) in 0.12 seconds\n",
      "Thread count was 4 (of 4 available processors)\n",
      "\n",
      "Solution count 5: -271.51 -271.574 -272.057 ... -321.138\n",
      "Pool objective bound -271.51\n",
      "\n",
      "Optimal solution found (tolerance 1.00e-04)\n",
      "Best objective -2.715095238095e+02, best bound -2.715095238095e+02, gap 0.0000%\n",
      "Optimize a model with 536 rows, 368 columns and 2636 nonzeros\n",
      "Variable types: 88 continuous, 280 integer (280 binary)\n",
      "Coefficient statistics:\n",
      "  Matrix range     [1e-01, 2e+05]\n",
      "  Objective range  [1e+00, 1e+00]\n",
      "  Bounds range     [1e+00, 1e+00]\n",
      "  RHS range        [1e+00, 2e+05]\n",
      "Found heuristic solution: objective -321.138\n",
      "Presolve time: 0.01s\n",
      "Presolved: 536 rows, 368 columns, 2689 nonzeros\n",
      "\n",
      "MIP start did not produce a new incumbent solution\n",
      "MIP start violates constraint temp by 1.000000000\n",
      "\n",
      "Variable types: 83 continuous, 285 integer (280 binary)\n",
      "\n",
      "Root relaxation: objective -2.672758e+02, 335 iterations, 0.01 seconds\n",
      "\n",
      "    Nodes    |    Current Node    |     Objective Bounds      |     Work\n",
      " Expl Unexpl |  Obj  Depth IntInf | Incumbent    BestBd   Gap | It/Node Time\n",
      "\n",
      "     0     0 -267.27578    0    6 -321.13809 -267.27578  16.8%     -    0s\n",
      "     0     0 -269.57782    0    8 -321.13809 -269.57782  16.1%     -    0s\n",
      "     0     0 -269.66042    0   18 -321.13809 -269.66042  16.0%     -    0s\n",
      "     0     0 -269.66340    0   19 -321.13809 -269.66340  16.0%     -    0s\n",
      "     0     0 -269.67693    0   19 -321.13809 -269.67693  16.0%     -    0s\n",
      "     0     2 -269.67693    0   19 -321.13809 -269.67693  16.0%     -    0s\n",
      "*   15    15               7    -276.4380952 -269.86047  2.38%   3.8    0s\n",
      "*   20    11               8    -275.7690476 -269.86047  2.14%   3.4    0s\n",
      "H   29    14                    -272.3595238 -270.11837  0.82%   3.1    0s\n",
      "*   49    18               5    -271.5785714 -270.11837  0.54%   2.4    0s\n",
      "*  127     5               7    -271.5738095 -271.04960  0.19%   2.2    0s\n",
      "\n",
      "Cutting planes:\n",
      "  Gomory: 2\n",
      "  MIR: 2\n",
      "  Inf proof: 1\n",
      "  Zero half: 1\n",
      "\n",
      "Explored 140 nodes (662 simplex iterations) in 0.14 seconds\n",
      "Thread count was 4 (of 4 available processors)\n"
     ]
    },
    {
     "name": "stdout",
     "output_type": "stream",
     "text": [
      "\n",
      "Solution count 6: -271.574 -271.579 -272.36 ... -321.138\n",
      "Pool objective bound -271.574\n",
      "\n",
      "Optimal solution found (tolerance 1.00e-04)\n",
      "Best objective -2.715738095238e+02, best bound -2.715738095238e+02, gap 0.0000%\n",
      "Optimize a model with 537 rows, 368 columns and 2643 nonzeros\n",
      "Variable types: 88 continuous, 280 integer (280 binary)\n",
      "Coefficient statistics:\n",
      "  Matrix range     [1e-01, 2e+05]\n",
      "  Objective range  [1e+00, 1e+00]\n",
      "  Bounds range     [1e+00, 1e+00]\n",
      "  RHS range        [1e+00, 2e+05]\n",
      "Found heuristic solution: objective -321.138\n",
      "Presolve time: 0.01s\n",
      "Presolved: 537 rows, 368 columns, 2696 nonzeros\n",
      "\n",
      "MIP start did not produce a new incumbent solution\n",
      "MIP start violates constraint temp by 1.000000000\n",
      "\n",
      "Variable types: 83 continuous, 285 integer (280 binary)\n",
      "\n",
      "Root relaxation: objective -2.672758e+02, 355 iterations, 0.00 seconds\n",
      "\n",
      "    Nodes    |    Current Node    |     Objective Bounds      |     Work\n",
      " Expl Unexpl |  Obj  Depth IntInf | Incumbent    BestBd   Gap | It/Node Time\n",
      "\n",
      "     0     0 -267.27578    0    6 -321.13809 -267.27578  16.8%     -    0s\n",
      "     0     0 -269.35060    0    5 -321.13809 -269.35060  16.1%     -    0s\n",
      "     0     0 -269.57909    0    8 -321.13809 -269.57909  16.1%     -    0s\n",
      "     0     2 -269.57909    0    8 -321.13809 -269.57909  16.1%     -    0s\n",
      "*   15    14               6    -275.0857143 -269.75937  1.94%   2.0    0s\n",
      "H   29    22                    -272.0571429 -269.76876  0.84%   1.8    0s\n",
      "H  101    32                    -271.5952381 -269.98803  0.59%   1.6    0s\n",
      "*  145    11               5    -271.5785714 -270.37294  0.44%   1.6    0s\n",
      "\n",
      "Cutting planes:\n",
      "  Gomory: 2\n",
      "  Cover: 1\n",
      "\n",
      "Explored 179 nodes (655 simplex iterations) in 0.13 seconds\n",
      "Thread count was 4 (of 4 available processors)\n",
      "\n",
      "Solution count 5: -271.579 -271.595 -272.057 ... -321.138\n",
      "Pool objective bound -271.579\n",
      "\n",
      "Optimal solution found (tolerance 1.00e-04)\n",
      "Best objective -2.715785714286e+02, best bound -2.715785714286e+02, gap 0.0000%\n",
      "Optimize a model with 538 rows, 368 columns and 2650 nonzeros\n",
      "Variable types: 88 continuous, 280 integer (280 binary)\n",
      "Coefficient statistics:\n",
      "  Matrix range     [1e-01, 2e+05]\n",
      "  Objective range  [1e+00, 1e+00]\n",
      "  Bounds range     [1e+00, 1e+00]\n",
      "  RHS range        [1e+00, 2e+05]\n",
      "Found heuristic solution: objective -321.138\n",
      "Presolve time: 0.01s\n",
      "Presolved: 538 rows, 368 columns, 2703 nonzeros\n",
      "\n",
      "MIP start did not produce a new incumbent solution\n",
      "MIP start violates constraint temp by 1.000000000\n",
      "\n",
      "Variable types: 83 continuous, 285 integer (280 binary)\n",
      "\n",
      "Root relaxation: objective -2.672758e+02, 335 iterations, 0.00 seconds\n",
      "\n",
      "    Nodes    |    Current Node    |     Objective Bounds      |     Work\n",
      " Expl Unexpl |  Obj  Depth IntInf | Incumbent    BestBd   Gap | It/Node Time\n",
      "\n",
      "     0     0 -267.27578    0    6 -321.13809 -267.27578  16.8%     -    0s\n",
      "     0     0 -269.57782    0    8 -321.13809 -269.57782  16.1%     -    0s\n",
      "     0     0 -269.66042    0   18 -321.13809 -269.66042  16.0%     -    0s\n",
      "     0     0 -269.66340    0   19 -321.13809 -269.66340  16.0%     -    0s\n",
      "     0     0 -269.67693    0   19 -321.13809 -269.67693  16.0%     -    0s\n",
      "     0     2 -269.67693    0   19 -321.13809 -269.67693  16.0%     -    0s\n",
      "*   15    15               7    -276.4380952 -269.86047  2.38%   4.1    0s\n",
      "*   20    11               8    -275.7690476 -269.86047  2.14%   3.6    0s\n",
      "H   29    14                    -272.3595238 -270.11837  0.82%   3.2    0s\n",
      "*   89    18               7    -271.5952381 -270.13037  0.54%   2.4    0s\n",
      "\n",
      "Cutting planes:\n",
      "  Gomory: 2\n",
      "  MIR: 2\n",
      "  Inf proof: 1\n",
      "  Zero half: 1\n",
      "\n",
      "Explored 154 nodes (701 simplex iterations) in 0.14 seconds\n",
      "Thread count was 4 (of 4 available processors)\n",
      "\n",
      "Solution count 5: -271.595 -272.36 -275.769 ... -321.138\n",
      "Pool objective bound -271.595\n",
      "\n",
      "Optimal solution found (tolerance 1.00e-04)\n",
      "Best objective -2.715952380952e+02, best bound -2.715952380952e+02, gap 0.0000%\n",
      "Optimize a model with 539 rows, 368 columns and 2657 nonzeros\n",
      "Variable types: 88 continuous, 280 integer (280 binary)\n",
      "Coefficient statistics:\n",
      "  Matrix range     [1e-01, 2e+05]\n",
      "  Objective range  [1e+00, 1e+00]\n",
      "  Bounds range     [1e+00, 1e+00]\n",
      "  RHS range        [1e+00, 2e+05]\n",
      "Found heuristic solution: objective -321.138\n",
      "Presolve time: 0.01s\n",
      "Presolved: 539 rows, 368 columns, 2710 nonzeros\n",
      "\n",
      "MIP start did not produce a new incumbent solution\n",
      "MIP start violates constraint temp by 1.000000000\n",
      "\n",
      "Variable types: 83 continuous, 285 integer (280 binary)\n",
      "\n",
      "Root relaxation: objective -2.672758e+02, 362 iterations, 0.01 seconds\n",
      "\n",
      "    Nodes    |    Current Node    |     Objective Bounds      |     Work\n",
      " Expl Unexpl |  Obj  Depth IntInf | Incumbent    BestBd   Gap | It/Node Time\n",
      "\n",
      "     0     0 -267.27578    0    6 -321.13809 -267.27578  16.8%     -    0s\n",
      "     0     0 -269.35060    0    5 -321.13809 -269.35060  16.1%     -    0s\n",
      "     0     0 -269.57909    0    8 -321.13809 -269.57909  16.1%     -    0s\n",
      "     0     2 -269.57909    0    8 -321.13809 -269.57909  16.1%     -    0s\n",
      "*   15    14               6    -275.0857143 -269.80476  1.92%   2.1    0s\n",
      "H   29    24                    -274.2190476 -269.82648  1.60%   1.9    0s\n",
      "H   32    24                    -272.3595238 -269.82648  0.93%   1.8    0s\n",
      "H   72    30                    -272.0571429 -269.94477  0.78%   1.7    0s\n",
      "*   94    30              10    -271.9738095 -269.94477  0.75%   1.8    0s\n",
      "\n",
      "Cutting planes:\n",
      "  Gomory: 2\n",
      "  StrongCG: 1\n",
      "\n",
      "Explored 190 nodes (705 simplex iterations) in 0.14 seconds\n",
      "Thread count was 4 (of 4 available processors)\n",
      "\n",
      "Solution count 6: -271.974 -272.057 -272.36 ... -321.138\n",
      "Pool objective bound -271.974\n",
      "\n",
      "Optimal solution found (tolerance 1.00e-04)\n",
      "Best objective -2.719738095238e+02, best bound -2.719738095238e+02, gap 0.0000%\n",
      "Optimize a model with 540 rows, 368 columns and 2663 nonzeros\n",
      "Variable types: 88 continuous, 280 integer (280 binary)\n",
      "Coefficient statistics:\n",
      "  Matrix range     [1e-01, 2e+05]\n",
      "  Objective range  [1e+00, 1e+00]\n",
      "  Bounds range     [1e+00, 1e+00]\n",
      "  RHS range        [1e+00, 2e+05]\n",
      "Found heuristic solution: objective -321.138\n",
      "Presolve time: 0.01s\n",
      "Presolved: 540 rows, 368 columns, 2716 nonzeros\n",
      "\n",
      "MIP start did not produce a new incumbent solution\n",
      "MIP start violates constraint temp by 1.000000000\n",
      "\n",
      "Variable types: 83 continuous, 285 integer (280 binary)\n",
      "\n",
      "Root relaxation: objective -2.672758e+02, 349 iterations, 0.01 seconds\n",
      "\n",
      "    Nodes    |    Current Node    |     Objective Bounds      |     Work\n",
      " Expl Unexpl |  Obj  Depth IntInf | Incumbent    BestBd   Gap | It/Node Time\n",
      "\n",
      "     0     0 -267.27578    0    6 -321.13809 -267.27578  16.8%     -    0s\n",
      "     0     0 -269.35060    0    5 -321.13809 -269.35060  16.1%     -    0s\n",
      "     0     0 -269.57909    0    8 -321.13809 -269.57909  16.1%     -    0s\n",
      "     0     2 -269.57909    0    8 -321.13809 -269.57909  16.1%     -    0s\n",
      "*   15    14               6    -275.0857143 -269.80476  1.92%   2.2    0s\n",
      "H   29    24                    -274.2190476 -269.82648  1.60%   2.0    0s\n",
      "H   32    24                    -272.3595238 -269.82648  0.93%   1.9    0s\n",
      "H   72    30                    -272.0571429 -270.17811  0.69%   1.9    0s\n",
      "\n",
      "Cutting planes:\n",
      "  Gomory: 2\n",
      "  Cover: 1\n",
      "\n",
      "Explored 152 nodes (655 simplex iterations) in 0.14 seconds\n",
      "Thread count was 4 (of 4 available processors)\n",
      "\n",
      "Solution count 5: -272.057 -272.36 -274.219 ... -321.138\n",
      "Pool objective bound -272.057\n",
      "\n",
      "Optimal solution found (tolerance 1.00e-04)\n",
      "Best objective -2.720571428571e+02, best bound -2.720571428571e+02, gap 0.0000%\n",
      "Optimize a model with 541 rows, 368 columns and 2671 nonzeros\n",
      "Variable types: 88 continuous, 280 integer (280 binary)\n",
      "Coefficient statistics:\n",
      "  Matrix range     [1e-01, 2e+05]\n",
      "  Objective range  [1e+00, 1e+00]\n",
      "  Bounds range     [1e+00, 1e+00]\n",
      "  RHS range        [1e+00, 2e+05]\n",
      "Found heuristic solution: objective -321.138\n",
      "Presolve time: 0.00s\n",
      "Presolved: 541 rows, 368 columns, 2724 nonzeros\n",
      "\n",
      "MIP start did not produce a new incumbent solution\n",
      "MIP start violates constraint temp by 1.000000000\n",
      "\n",
      "Variable types: 83 continuous, 285 integer (280 binary)\n",
      "\n",
      "Root relaxation: objective -2.672758e+02, 347 iterations, 0.01 seconds\n",
      "\n",
      "    Nodes    |    Current Node    |     Objective Bounds      |     Work\n",
      " Expl Unexpl |  Obj  Depth IntInf | Incumbent    BestBd   Gap | It/Node Time\n",
      "\n",
      "     0     0 -267.27578    0    6 -321.13809 -267.27578  16.8%     -    0s\n"
     ]
    },
    {
     "name": "stdout",
     "output_type": "stream",
     "text": [
      "     0     0 -269.35060    0    5 -321.13809 -269.35060  16.1%     -    0s\n",
      "     0     0 -269.57909    0    8 -321.13809 -269.57909  16.1%     -    0s\n",
      "     0     2 -269.57909    0    8 -321.13809 -269.57909  16.1%     -    0s\n",
      "*   15    14               6    -275.0857143 -269.80476  1.92%   2.1    0s\n",
      "H   29    24                    -274.2190476 -269.82648  1.60%   1.9    0s\n",
      "H   32    24                    -272.3595238 -269.82648  0.93%   1.9    0s\n",
      "\n",
      "Cutting planes:\n",
      "  Gomory: 2\n",
      "  Cover: 3\n",
      "\n",
      "Explored 233 nodes (827 simplex iterations) in 0.13 seconds\n",
      "Thread count was 4 (of 4 available processors)\n",
      "\n",
      "Solution count 4: -272.36 -274.219 -275.086 -321.138 \n",
      "Pool objective bound -272.36\n",
      "\n",
      "Optimal solution found (tolerance 1.00e-04)\n",
      "Best objective -2.723595238095e+02, best bound -2.723595238095e+02, gap 0.0000%\n",
      "Optimize a model with 542 rows, 368 columns and 2677 nonzeros\n",
      "Variable types: 88 continuous, 280 integer (280 binary)\n",
      "Coefficient statistics:\n",
      "  Matrix range     [1e-01, 2e+05]\n",
      "  Objective range  [1e+00, 1e+00]\n",
      "  Bounds range     [1e+00, 1e+00]\n",
      "  RHS range        [1e+00, 2e+05]\n",
      "Found heuristic solution: objective -321.138\n",
      "Presolve time: 0.01s\n",
      "Presolved: 542 rows, 368 columns, 2730 nonzeros\n",
      "\n",
      "MIP start did not produce a new incumbent solution\n",
      "MIP start violates constraint temp by 1.000000000\n",
      "\n",
      "Variable types: 83 continuous, 285 integer (280 binary)\n",
      "\n",
      "Root relaxation: objective -2.672758e+02, 366 iterations, 0.01 seconds\n",
      "\n",
      "    Nodes    |    Current Node    |     Objective Bounds      |     Work\n",
      " Expl Unexpl |  Obj  Depth IntInf | Incumbent    BestBd   Gap | It/Node Time\n",
      "\n",
      "     0     0 -267.27578    0    6 -321.13809 -267.27578  16.8%     -    0s\n",
      "     0     0 -269.35060    0    5 -321.13809 -269.35060  16.1%     -    0s\n",
      "     0     0 -269.63152    0    9 -321.13809 -269.63152  16.0%     -    0s\n",
      "     0     0 -269.68040    0   11 -321.13809 -269.68040  16.0%     -    0s\n",
      "     0     0 -269.68450    0   15 -321.13809 -269.68450  16.0%     -    0s\n",
      "     0     0 -269.70763    0   19 -321.13809 -269.70763  16.0%     -    0s\n",
      "     0     0 -269.71139    0   19 -321.13809 -269.71139  16.0%     -    0s\n",
      "     0     0 -269.71760    0   15 -321.13809 -269.71760  16.0%     -    0s\n",
      "     0     0 -269.72849    0   19 -321.13809 -269.72849  16.0%     -    0s\n",
      "     0     2 -269.72849    0   19 -321.13809 -269.72849  16.0%     -    0s\n",
      "*  247   125             125    -279.8380952 -269.97023  3.53%   2.5    0s\n",
      "*  280    93             130    -278.4500000 -270.05878  3.01%   2.6    0s\n",
      "H  293    27                    -275.1166667 -270.05878  1.84%   2.6    0s\n",
      "*  378    18              20    -274.0380952 -270.34409  1.35%   2.7    0s\n",
      "*  502    43              13    -273.9523810 -270.75197  1.17%   2.6    0s\n",
      "*  534    47              19    -273.6666667 -270.77202  1.06%   2.6    0s\n",
      "*  545    46              12    -273.4238095 -270.77202  0.97%   2.6    0s\n",
      "*  556    43              13    -272.9404762 -270.77202  0.79%   2.6    0s\n",
      "*  641    12              12    -272.9166667 -271.15544  0.65%   2.6    0s\n",
      "*  658    11              12    -272.8761905 -271.15544  0.63%   2.6    0s\n",
      "H  664    13                    -272.8738095 -271.15544  0.63%   2.6    0s\n",
      "*  692     8              12    -272.7095238 -272.20186  0.19%   2.6    0s\n",
      "\n",
      "Cutting planes:\n",
      "  Gomory: 3\n",
      "  Cover: 3\n",
      "  MIR: 1\n",
      "  StrongCG: 1\n",
      "  GUB cover: 2\n",
      "  Inf proof: 2\n",
      "\n",
      "Explored 719 nodes (2254 simplex iterations) in 0.27 seconds\n",
      "Thread count was 4 (of 4 available processors)\n",
      "\n",
      "Solution count 10: -272.71 -272.874 -272.876 ... -275.117\n",
      "Pool objective bound -272.71\n",
      "\n",
      "Optimal solution found (tolerance 1.00e-04)\n",
      "Best objective -2.727095238095e+02, best bound -2.727095238095e+02, gap 0.0000%\n"
     ]
    }
   ],
   "source": [
    "rst = []\n",
    "for i in xrange(10):\n",
    "    test0.optimize()\n",
    "    test0.addConstr(\n",
    "                    (\n",
    "                    quicksum(x[h] \n",
    "                             if x[h].X == 1 or abs(x[h].X - 1.0) < 0.000001 \n",
    "                             else 0 for h in Houses)\n",
    "                    <= sum( 1\n",
    "                           if x[h].X == 1 or abs(x[h].X - 1.0) < 0.000001 \n",
    "                             else 0 for h in Houses)-1\n",
    "                    ),name = 'temp'\n",
    "                )\n",
    "    num_houses = sum(x[i].X  for i in Houses)\n",
    "    rst.append([num_houses, test0.ObjVal])"
   ]
  },
  {
   "cell_type": "code",
   "execution_count": 38,
   "metadata": {},
   "outputs": [
    {
     "data": {
      "text/plain": [
       "[[7.0, -270.6071428571429],\n",
       " [6.0, -271.36666666666673],\n",
       " [7.0, -271.5095238095239],\n",
       " [7.0, -271.5738095238096],\n",
       " [7.0, -271.5785714285715],\n",
       " [7.0, -271.59523809523824],\n",
       " [6.0, -271.97380952380956],\n",
       " [8.0, -272.05714285714294],\n",
       " [6.0, -272.3595238095238],\n",
       " [6.0, -272.70952380952383]]"
      ]
     },
     "execution_count": 38,
     "metadata": {},
     "output_type": "execute_result"
    }
   ],
   "source": [
    "rst"
   ]
  },
  {
   "cell_type": "code",
   "execution_count": 407,
   "metadata": {
    "collapsed": true
   },
   "outputs": [],
   "source": [
    "#test0.getVarByName(\"x\" + str(x.keys()[0]))\n",
    "#test0.getVars()\n",
    "#test0.getVars()#[0].Varname\n",
    "#result = {}\n",
    "#for item in test0.getVars():\n",
    "#    if item.varname[0] == \"x\":\n",
    "#        result[item.varname[1:]] = item.x"
   ]
  },
  {
   "cell_type": "markdown",
   "metadata": {},
   "source": [
    "- #### Test Objective Optimal Value"
   ]
  },
  {
   "cell_type": "code",
   "execution_count": 408,
   "metadata": {},
   "outputs": [
    {
     "name": "stdout",
     "output_type": "stream",
     "text": [
      "201.688095238\n"
     ]
    }
   ],
   "source": [
    "checkobject = 0\n",
    "che = 0\n",
    "for h in Occupied:\n",
    "    checkobject += sum(affect(h,v)*(1-x[v].x) for v in Vacants)*(1-x[h].x)\n",
    "    che += x[h].x\n",
    "print checkobject"
   ]
  },
  {
   "cell_type": "code",
   "execution_count": 409,
   "metadata": {},
   "outputs": [
    {
     "data": {
      "text/plain": [
       "-201.68809523809523"
      ]
     },
     "execution_count": 409,
     "metadata": {},
     "output_type": "execute_result"
    }
   ],
   "source": [
    "sum(bigM[i].x for i in Occupied)"
   ]
  },
  {
   "cell_type": "code",
   "execution_count": 410,
   "metadata": {},
   "outputs": [
    {
     "data": {
      "text/plain": [
       "-201.68809523809523"
      ]
     },
     "execution_count": 410,
     "metadata": {},
     "output_type": "execute_result"
    }
   ],
   "source": [
    "test0.ObjVal"
   ]
  },
  {
   "cell_type": "code",
   "execution_count": 411,
   "metadata": {},
   "outputs": [
    {
     "data": {
      "text/plain": [
       "201.6880952380943"
      ]
     },
     "execution_count": 411,
     "metadata": {},
     "output_type": "execute_result"
    }
   ],
   "source": [
    "a = 0\n",
    "for j in Occupied:\n",
    "    for i in Vacants:\n",
    "        a += affect(j,i)*(1-x[i].x)*(1-x[j].x)\n",
    "a"
   ]
  },
  {
   "cell_type": "markdown",
   "metadata": {},
   "source": [
    "#### Result"
   ]
  },
  {
   "cell_type": "code",
   "execution_count": 412,
   "metadata": {},
   "outputs": [
    {
     "name": "stdout",
     "output_type": "stream",
     "text": [
      "------------------------------------------\n",
      "|                                        |\n",
      "|  o     v         o r   r   \u001b[41mv\u001b[0m   r r r   |\n",
      "|  v     r         o v   v   \u001b[41mv\u001b[0m   v r o   |\n",
      "|                                        |\n",
      "|  \u001b[41mv\u001b[0m     v         r r   \u001b[41mv\u001b[0m   r   o v o   |\n",
      "|  o     o         r o   r   o   r o o   |\n",
      "|  v     r         r r   v   r   o r r   |\n",
      "|  r     v         r r   r   o   o v o   |\n",
      "|  o     r         v o   v   r   o r v   |\n",
      "|  o     o         v r   r   r   o r o   |\n",
      "|  r     v         r v   o   o   r v v   |\n",
      "|                                        |\n",
      "|  r     r         o r   o   r   v o v   |\n",
      "|  r     r         r o   r   r   o r o   |\n",
      "|  o     o         v v   o   o   r o r   |\n",
      "|                                        |\n",
      "|                                        |\n",
      "|  v     v         r o   r   o   v v v   |\n",
      "|  r     o         r v   r   o   r v r   |\n",
      "|                                        |\n",
      "------------------------------------------\n",
      "-201.688095238\n"
     ]
    }
   ],
   "source": [
    "PrintResult(Map,x)\n",
    "print sum(bigM[i].x for i in Occupied)"
   ]
  },
  {
   "cell_type": "code",
   "execution_count": 432,
   "metadata": {},
   "outputs": [
    {
     "name": "stdout",
     "output_type": "stream",
     "text": [
      "x[o,(1, 1),2]\n"
     ]
    },
    {
     "data": {
      "text/plain": [
       "-0.0"
      ]
     },
     "execution_count": 432,
     "metadata": {},
     "output_type": "execute_result"
    }
   ],
   "source": [
    "import pandas as pd\n",
    "#x.keys()\n",
    "for i in test0.getVars():\n",
    "    print i.VarName\n",
    "    break\n",
    "    \n",
    "x['v', (4, 1), 2].x\n",
    "#Map[1][4]"
   ]
  },
  {
   "cell_type": "markdown",
   "metadata": {},
   "source": [
    "### Weight Function ILP  (2017 summer one)"
   ]
  },
  {
   "cell_type": "code",
   "execution_count": 414,
   "metadata": {
    "collapsed": true
   },
   "outputs": [],
   "source": [
    "test = Model() # empty\n",
    "\n",
    "x = test.addVars(Houses,vtype = GRB.BINARY,name = \"x\")\n",
    "z = test.addVars(Edge,vtype = GRB.BINARY,name = \"z\")\n",
    "y = test.addVars(Edge,vtype = GRB.BINARY,name = \"y\")\n",
    "delta = test.addVars(CompareHouses,vtype = GRB.BINARY,name = \"delta\")"
   ]
  },
  {
   "cell_type": "code",
   "execution_count": 415,
   "metadata": {
    "collapsed": true
   },
   "outputs": [],
   "source": [
    "test.update()\n",
    "\n",
    "\n",
    "Budget_Constraint = test.addConstr((quicksum(Cost[i]*x[Houses[i]] for i in xrange(len(Houses))) +\n",
    "                     quicksum(Wallij[i]*z[Edge[i]] for i in xrange(len(Edge))) -\n",
    "                     quicksum(Benefit[i]*y[Edge[i]] for i in xrange(len(Edge))) -\n",
    "                     quicksum(Walli[i]*x[Edge[i][0]] for i in xrange(len(Edge))) -\n",
    "                     quicksum(Wallj[i]*x[Edge[i][1]] for i in xrange(len(Edge))) \n",
    "                     <= \n",
    "                     Budget -\n",
    "                     quicksum(Walli) - quicksum(Wallj)\n",
    "                    )\n",
    "                     , name = \"Budget_Constraint\")\n",
    "\n",
    "XOR1 = test.addConstrs((x[Edge[i][0]] - x[Edge[i][1]] - z[Edge[i]] <= 0 \n",
    "                      for i in xrange(len(Edge))\n",
    "                     ),name = \"XOR1\")\n",
    "XOR2 = test.addConstrs((x[Edge[i][1]] - x[Edge[i][0]] - z[Edge[i]] <= 0 \n",
    "                      for i in xrange(len(Edge))\n",
    "                     ),name = \"XOR2\")\n",
    "XOR3 = test.addConstrs((x[Edge[i][1]] + x[Edge[i][0]] + z[Edge[i]] <= 2 \n",
    "                      for i in xrange(len(Edge))\n",
    "                     ),name = \"XOR3\")\n",
    "XOR4 = test.addConstrs((-x[Edge[i][1]] - x[Edge[i][0]] + z[Edge[i]] <= 0 \n",
    "                      for i in xrange(len(Edge))\n",
    "                     ),name = \"XOR4\")\n",
    "\n",
    "CD1 = test.addConstrs((x[Edge[i][1]] + x[Edge[i][0]] - y[Edge[i]] <= 1 \n",
    "                      for i in xrange(len(Edge))\n",
    "                     ),name = \"CD1\")\n",
    "\n",
    "CD2 = test.addConstrs((-x[Edge[i][1]]  + y[Edge[i]] <= 0 \n",
    "                      for i in xrange(len(Edge))\n",
    "                     ),name = \"CD2\")\n",
    "\n",
    "CD3 = test.addConstrs((-x[Edge[i][0]]  + y[Edge[i]] <= 0 \n",
    "                      for i in xrange(len(Edge))\n",
    "                     ),name = \"CD3\")\n",
    "\n",
    "detlatConstraint1 = test.addConstrs((x[CompareHouses[i][0]]  + delta[CompareHouses[i]] <= 1 \n",
    "                      for i in xrange(len(CompareHouses))\n",
    "                     ),name = \"detlatConstraint1\")\n",
    "detlatConstraint1 = test.addConstrs((x[CompareHouses[i][1]]  + delta[CompareHouses[i]] <= 1 \n",
    "                      for i in xrange(len(CompareHouses))\n",
    "                     ),name = \"detlatConstraint1\")\n",
    "detlatConstraint1 = test.addConstrs(( -x[CompareHouses[i][1]]-x[CompareHouses[i][0]]  \n",
    "                                     - delta[CompareHouses[i]] <= -1 \n",
    "                      for i in xrange(len(CompareHouses))\n",
    "                     ),name = \"detlatConstraint1\")\n",
    "\n",
    "\n",
    "#c2 = m.addConstr(x + y >= 1)"
   ]
  },
  {
   "cell_type": "code",
   "execution_count": 416,
   "metadata": {
    "collapsed": true
   },
   "outputs": [],
   "source": [
    "test.setObjective( quicksum(affect(pare[0],pare[1])*delta[pare] for pare in CompareHouses) , GRB.MINIMIZE)\n",
    "#affect(pare[0],pare[1])*delta[pare] for pare in CompareHouses"
   ]
  },
  {
   "cell_type": "code",
   "execution_count": 417,
   "metadata": {
    "scrolled": false
   },
   "outputs": [
    {
     "name": "stdout",
     "output_type": "stream",
     "text": [
      "Optimize a model with 10309 rows, 3518 columns and 24794 nonzeros\n",
      "Variable types: 0 continuous, 3518 integer (3518 binary)\n",
      "Coefficient statistics:\n",
      "  Matrix range     [1e+00, 1e+05]\n",
      "  Objective range  [1e-01, 1e+00]\n",
      "  Bounds range     [1e+00, 1e+00]\n",
      "  RHS range        [1e+00, 1e+05]\n",
      "Presolve time: 0.09s\n",
      "Presolved: 10309 rows, 3518 columns, 24794 nonzeros\n",
      "Variable types: 0 continuous, 3518 integer (3518 binary)\n",
      "Found heuristic solution: objective 224.0452381\n",
      "\n",
      "Root relaxation: objective 1.984791e+02, 3365 iterations, 0.11 seconds\n",
      "\n",
      "    Nodes    |    Current Node    |     Objective Bounds      |     Work\n",
      " Expl Unexpl |  Obj  Depth IntInf | Incumbent    BestBd   Gap | It/Node Time\n",
      "\n",
      "     0     0  198.47912    0   95  224.04524  198.47912  11.4%     -    0s\n",
      "H    0     0                     202.6214286  198.47912  2.04%     -    0s\n",
      "     0     0  199.76369    0   94  202.62143  199.76369  1.41%     -    0s\n",
      "H    0     0                     202.1119048  199.76369  1.16%     -    0s\n",
      "     0     0  199.76369    0    1  202.11190  199.76369  1.16%     -    0s\n",
      "H    0     0                     201.6880952  199.76369  0.95%     -    0s\n",
      "     0     0  200.68676    0    2  201.68810  200.68676  0.50%     -    0s\n",
      "     0     0  200.91243    0    1  201.68810  200.91243  0.38%     -    0s\n",
      "\n",
      "Cutting planes:\n",
      "  Cover: 1\n",
      "  GUB cover: 3\n",
      "\n",
      "Explored 0 nodes (10404 simplex iterations) in 0.61 seconds\n",
      "Thread count was 4 (of 4 available processors)\n",
      "\n",
      "Solution count 4: 201.688 202.112 202.621 224.045 \n",
      "Pool objective bound 201.688\n",
      "\n",
      "Optimal solution found (tolerance 1.00e-04)\n",
      "Best objective 2.016880952381e+02, best bound 2.016880952381e+02, gap 0.0000%\n"
     ]
    }
   ],
   "source": [
    "test.optimize()"
   ]
  },
  {
   "cell_type": "code",
   "execution_count": 418,
   "metadata": {
    "collapsed": true
   },
   "outputs": [],
   "source": [
    "#for v in test.getVars():\n",
    "    #if v.X != 0:\n",
    "    #print(\"%s %f\" % (v.Varname, v.X))"
   ]
  },
  {
   "cell_type": "markdown",
   "metadata": {},
   "source": [
    "#### Result"
   ]
  },
  {
   "cell_type": "code",
   "execution_count": 419,
   "metadata": {},
   "outputs": [
    {
     "name": "stdout",
     "output_type": "stream",
     "text": [
      "------------------------------------------\n",
      "|                                        |\n",
      "|  o     v         o r   r   \u001b[41mv\u001b[0m   r r r   |\n",
      "|  v     r         o v   v   \u001b[41mv\u001b[0m   v r o   |\n",
      "|                                        |\n",
      "|  \u001b[41mv\u001b[0m     v         r r   \u001b[41mv\u001b[0m   r   o v o   |\n",
      "|  o     o         r o   r   o   r o o   |\n",
      "|  v     r         r r   v   r   o r r   |\n",
      "|  r     v         r r   r   o   o v o   |\n",
      "|  o     r         v o   v   r   o r v   |\n",
      "|  o     o         v r   r   r   o r o   |\n",
      "|  r     v         r v   o   o   r v v   |\n",
      "|                                        |\n",
      "|  r     r         o r   o   r   v o v   |\n",
      "|  r     r         r o   r   r   o r o   |\n",
      "|  o     o         v v   o   o   r o r   |\n",
      "|                                        |\n",
      "|                                        |\n",
      "|  v     v         r o   r   o   v v v   |\n",
      "|  r     o         r v   r   o   r v r   |\n",
      "|                                        |\n",
      "------------------------------------------\n",
      "201.688095238\n"
     ]
    }
   ],
   "source": [
    "PrintResult(Map,x)\n",
    "print test.ObjVal"
   ]
  },
  {
   "cell_type": "markdown",
   "metadata": {},
   "source": [
    "### Compare"
   ]
  },
  {
   "cell_type": "code",
   "execution_count": 139,
   "metadata": {
    "scrolled": true
   },
   "outputs": [
    {
     "name": "stdout",
     "output_type": "stream",
     "text": [
      "<bound method Model.printQuality of <gurobi.Model MIP instance Unnamed: 3945 constrs, 2628 vars, Parameter changes: LogFile=gurobi.log>>\n",
      "<bound method Model.printQuality of <gurobi.Model MIP instance Unnamed: 567659 constrs, 189760 vars, Parameter changes: LogFile=gurobi.log>> \n",
      "\n",
      "\n",
      "\n",
      "Running Time of Big M:  0.298236131668\n",
      "Running Time of 2017 Summer:  470.625692129 \n",
      "\n",
      "\n",
      "\n",
      "False\n",
      "2348.68333333 2348.68333333\n",
      "False\n",
      "2348.68333333 2348.68333333\n"
     ]
    }
   ],
   "source": [
    "print test0.printQuality\n",
    "print test.printQuality , \"\\n\\n\\n\"\n",
    "print \"Running Time of Big M: \" ,test0.Runtime\n",
    "print \"Running Time of 2017 Summer: \" ,test.Runtime , \"\\n\\n\\n\"\n",
    "\n",
    "print test.ObjVal == checkobject\n",
    "print test.ObjVal, checkobject\n",
    "print -test0.ObjVal == test.ObjVal\n",
    "print test.ObjVal, -test0.ObjVal"
   ]
  },
  {
   "cell_type": "code",
   "execution_count": 140,
   "metadata": {},
   "outputs": [
    {
     "name": "stdout",
     "output_type": "stream",
     "text": [
      "2348.68333333\n"
     ]
    }
   ],
   "source": [
    "temp = 0\n",
    "che = 0\n",
    "for h in Occupied:\n",
    "    temp += sum(affect(h,v)*(1-x[v].x) for v in Vacants)*(1-x[h].x)\n",
    "    che += x[h].x\n",
    "print temp"
   ]
  },
  {
   "cell_type": "code",
   "execution_count": 141,
   "metadata": {},
   "outputs": [
    {
     "data": {
      "text/plain": [
       "True"
      ]
     },
     "execution_count": 141,
     "metadata": {},
     "output_type": "execute_result"
    }
   ],
   "source": [
    "temp == checkobject"
   ]
  },
  {
   "cell_type": "markdown",
   "metadata": {},
   "source": [
    "-----------------------------------------------------------------------------------------------------------------\n",
    "\n",
    "# $\\hspace{10cm}$  Above 01-10-2018"
   ]
  },
  {
   "cell_type": "code",
   "execution_count": null,
   "metadata": {
    "collapsed": true
   },
   "outputs": [],
   "source": []
  },
  {
   "cell_type": "code",
   "execution_count": null,
   "metadata": {
    "collapsed": true
   },
   "outputs": [],
   "source": []
  },
  {
   "cell_type": "code",
   "execution_count": null,
   "metadata": {
    "collapsed": true
   },
   "outputs": [],
   "source": []
  },
  {
   "cell_type": "code",
   "execution_count": null,
   "metadata": {
    "collapsed": true
   },
   "outputs": [],
   "source": []
  },
  {
   "cell_type": "code",
   "execution_count": null,
   "metadata": {
    "collapsed": true
   },
   "outputs": [],
   "source": []
  },
  {
   "cell_type": "code",
   "execution_count": null,
   "metadata": {
    "collapsed": true
   },
   "outputs": [],
   "source": []
  },
  {
   "cell_type": "markdown",
   "metadata": {
    "collapsed": true
   },
   "source": [
    "## Extra Note\n",
    "\n",
    "- The Big M method will tend to demolish all houses in some case due to the affect of tolerance\n",
    "\n",
    "- Maximize the minimum distance between occupied and vacant\n",
    "\n",
    "> $$\\begin{array}{rll}\n",
    "    & \\forall \\;i \\in O \\uplus R \\\\\n",
    "    & t_{i} \\leq d_{i,j}(1-x_j) + M x_j \\;\\; \\forall j \\in V \\\\ \n",
    "    & t_{i} \\leq M(1-x_i) \\\\\n",
    "    & t_{i} \\in \\text{Real Number} \\\\[1pt]\\\\\n",
    "    & \\text{max} \\;\\;\\; \\sum_{i \\in O\\uplus R} \\;t_{i} \\\\\n",
    "    \\end{array}$$"
   ]
  },
  {
   "cell_type": "markdown",
   "metadata": {
    "collapsed": true
   },
   "source": [
    "9/27\n",
    "> $$\\begin{array}{rll}\n",
    "    & \\forall \\;i \\in O \\uplus R \\\\\n",
    "    & t_{i} \\leq d_{i,j}(1-x_j) + M x_j + M x_i\\;\\; \\forall j \\in V \\\\ \n",
    "    & t_{i} \\in \\text{Real Number} \\\\[1pt]\\\\\n",
    "    & \\text{max} \\;\\;\\; \\sum_{i \\in O\\uplus R} \\;t_{i} \\\\\n",
    "    \\end{array}$$"
   ]
  }
 ],
 "metadata": {
  "kernelspec": {
   "display_name": "Python 2",
   "language": "python",
   "name": "python2"
  },
  "language_info": {
   "codemirror_mode": {
    "name": "ipython",
    "version": 2
   },
   "file_extension": ".py",
   "mimetype": "text/x-python",
   "name": "python",
   "nbconvert_exporter": "python",
   "pygments_lexer": "ipython2",
   "version": "2.7.13"
  }
 },
 "nbformat": 4,
 "nbformat_minor": 2
}
