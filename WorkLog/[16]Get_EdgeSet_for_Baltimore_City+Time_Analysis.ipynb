{
 "cells": [
  {
   "cell_type": "code",
   "execution_count": 2,
   "metadata": {
    "collapsed": true
   },
   "outputs": [],
   "source": [
    "import numpy as np\n",
    "import csv"
   ]
  },
  {
   "cell_type": "code",
   "execution_count": 2,
   "metadata": {},
   "outputs": [
    {
     "name": "stderr",
     "output_type": "stream",
     "text": [
      "Self-intersection at or near point -76.603476837716656 39.296847746533537\n",
      "Self-intersection at or near point -76.616428799999994 39.291846100000001\n",
      "Self-intersection at or near point -76.613582164696879 39.298842597631051\n"
     ]
    }
   ],
   "source": [
    "import osmnx as ox\n",
    "import pandas as pd\n",
    "poly = ox.gdf_from_place('Baltimore, Maryland, USA', which_result=2)\n",
    "# Get buildins gdf based on polygon\n",
    "gdf = ox.create_buildings_gdf(polygon = poly.geometry[0])"
   ]
  },
  {
   "cell_type": "code",
   "execution_count": 3,
   "metadata": {},
   "outputs": [],
   "source": [
    "with open('CleanDataBase/vacantBaltimore_171117_8000__OSMNX', 'rb') as f:\n",
    "    reader = csv.reader(f)\n",
    "    # vacantosmnx : list[int] - list of all vacant houses id\n",
    "    vacantosmnx = map(int,list(reader)[0])"
   ]
  },
  {
   "cell_type": "code",
   "execution_count": 13,
   "metadata": {
    "collapsed": true,
    "scrolled": false
   },
   "outputs": [],
   "source": [
    "# add new column 'housetype'\n",
    "sLength = len(gdf[gdf.columns[0]])\n",
    "gdf = gdf.assign(\n",
    "    housetype=pd.Series(np.zeros(len(gdf[gdf.columns[0]]),dtype = int)).values) "
   ]
  },
  {
   "cell_type": "code",
   "execution_count": 14,
   "metadata": {},
   "outputs": [
    {
     "name": "stdout",
     "output_type": "stream",
     "text": [
      "Done with vacant.\n"
     ]
    }
   ],
   "source": [
    "# set vacant house\n",
    "for i in gdf.index:\n",
    "    if i in vacantosmnx:\n",
    "        gdf.loc[i,'housetype'] = 2     "
   ]
  },
  {
   "cell_type": "code",
   "execution_count": 15,
   "metadata": {
    "collapsed": true
   },
   "outputs": [],
   "source": [
    "gdf_proj = ox.project_gdf(gdf)"
   ]
  },
  {
   "cell_type": "code",
   "execution_count": null,
   "metadata": {
    "collapsed": true
   },
   "outputs": [],
   "source": [
    "# df.to_csv('example.csv')"
   ]
  },
  {
   "cell_type": "code",
   "execution_count": 20,
   "metadata": {},
   "outputs": [
    {
     "name": "stdout",
     "output_type": "stream",
     "text": [
      "10000\n",
      "20000\n",
      "30000\n",
      "40000\n",
      "50000\n",
      "60000\n",
      "70000\n",
      "80000\n",
      "90000\n",
      "100000\n",
      "110000\n",
      "120000\n",
      "130000\n",
      "140000\n",
      "150000\n",
      "160000\n",
      "170000\n",
      "180000\n",
      "190000\n",
      "200000\n",
      "210000\n",
      "220000\n",
      "230000\n",
      "240000\n",
      "250000\n"
     ]
    }
   ],
   "source": [
    "count = 0\n",
    "# set other types of building\n",
    "for i in gdf.index:\n",
    "    # if it's not building\n",
    "    # note that no wall for this\n",
    "    if gdf['building'][i] != 'yes':\n",
    "        gdf.loc[i,'housetype'] = -1\n",
    "    # if no address for the building or the area of buildig > 398\n",
    "    # option: area > 125 or area < 37\n",
    "    #elif pd.isnull(gdf['addr:street'][i]) or gdf_proj.area[i] > 398 : \n",
    "        #gdf.loc[i,'housetype'] = 3\n",
    "    count += 1\n",
    "    if count % 10000==0:\n",
    "        print count "
   ]
  },
  {
   "cell_type": "code",
   "execution_count": null,
   "metadata": {
    "collapsed": true
   },
   "outputs": [],
   "source": [
    "import time"
   ]
  },
  {
   "cell_type": "code",
   "execution_count": 54,
   "metadata": {
    "scrolled": false
   },
   "outputs": [
    {
     "name": "stdout",
     "output_type": "stream",
     "text": [
      "-10.6834378242\n"
     ]
    },
    {
     "ename": "KeyboardInterrupt",
     "evalue": "",
     "output_type": "error",
     "traceback": [
      "\u001b[0;31m---------------------------------------------------------------------------\u001b[0m",
      "\u001b[0;31mKeyboardInterrupt\u001b[0m                         Traceback (most recent call last)",
      "\u001b[0;32m<ipython-input-54-78bf2eb6704f>\u001b[0m in \u001b[0;36m<module>\u001b[0;34m()\u001b[0m\n\u001b[1;32m      5\u001b[0m     \u001b[0;32mfor\u001b[0m \u001b[0mj\u001b[0m \u001b[0;32min\u001b[0m \u001b[0mxrange\u001b[0m\u001b[0;34m(\u001b[0m\u001b[0mi\u001b[0m\u001b[0;34m+\u001b[0m\u001b[0;36m1\u001b[0m\u001b[0;34m,\u001b[0m\u001b[0mlen\u001b[0m\u001b[0;34m(\u001b[0m\u001b[0mtempgdf\u001b[0m\u001b[0;34m.\u001b[0m\u001b[0mindex\u001b[0m\u001b[0;34m)\u001b[0m\u001b[0;34m)\u001b[0m\u001b[0;34m:\u001b[0m\u001b[0;34m\u001b[0m\u001b[0m\n\u001b[1;32m      6\u001b[0m \u001b[0;34m\u001b[0m\u001b[0m\n\u001b[0;32m----> 7\u001b[0;31m         \u001b[0;32mif\u001b[0m \u001b[0mset\u001b[0m\u001b[0;34m(\u001b[0m\u001b[0mtempgdf\u001b[0m\u001b[0;34m[\u001b[0m\u001b[0;34m'nodes'\u001b[0m\u001b[0;34m]\u001b[0m\u001b[0;34m[\u001b[0m\u001b[0mtempgdf\u001b[0m\u001b[0;34m.\u001b[0m\u001b[0mindex\u001b[0m\u001b[0;34m[\u001b[0m\u001b[0mi\u001b[0m\u001b[0;34m]\u001b[0m\u001b[0;34m]\u001b[0m\u001b[0;34m)\u001b[0m \u001b[0;34m&\u001b[0m \u001b[0mset\u001b[0m\u001b[0;34m(\u001b[0m\u001b[0mtempgdf\u001b[0m\u001b[0;34m[\u001b[0m\u001b[0;34m'nodes'\u001b[0m\u001b[0;34m]\u001b[0m\u001b[0;34m[\u001b[0m\u001b[0mtempgdf\u001b[0m\u001b[0;34m.\u001b[0m\u001b[0mindex\u001b[0m\u001b[0;34m[\u001b[0m\u001b[0mj\u001b[0m\u001b[0;34m]\u001b[0m\u001b[0;34m]\u001b[0m\u001b[0;34m)\u001b[0m \u001b[0;34m:\u001b[0m\u001b[0;34m\u001b[0m\u001b[0m\n\u001b[0m\u001b[1;32m      8\u001b[0m             \u001b[0mE\u001b[0m\u001b[0;34m.\u001b[0m\u001b[0mappend\u001b[0m\u001b[0;34m(\u001b[0m\u001b[0;34m(\u001b[0m\u001b[0mtempgdf\u001b[0m\u001b[0;34m.\u001b[0m\u001b[0mindex\u001b[0m\u001b[0;34m[\u001b[0m\u001b[0mi\u001b[0m\u001b[0;34m]\u001b[0m\u001b[0;34m,\u001b[0m\u001b[0mtempgdf\u001b[0m\u001b[0;34m.\u001b[0m\u001b[0mindex\u001b[0m\u001b[0;34m[\u001b[0m\u001b[0mj\u001b[0m\u001b[0;34m]\u001b[0m\u001b[0;34m)\u001b[0m\u001b[0;34m)\u001b[0m\u001b[0;34m\u001b[0m\u001b[0m\n\u001b[1;32m      9\u001b[0m \u001b[0;34m\u001b[0m\u001b[0m\n",
      "\u001b[0;32m/anaconda/envs/OSMNX/lib/python2.7/site-packages/pandas/core/series.pyc\u001b[0m in \u001b[0;36m__getitem__\u001b[0;34m(self, key)\u001b[0m\n\u001b[1;32m    606\u001b[0m                     \u001b[0;31m# we need to box if we have a non-unique index here\u001b[0m\u001b[0;34m\u001b[0m\u001b[0;34m\u001b[0m\u001b[0m\n\u001b[1;32m    607\u001b[0m                     \u001b[0;31m# otherwise have inline ndarray/lists\u001b[0m\u001b[0;34m\u001b[0m\u001b[0;34m\u001b[0m\u001b[0m\n\u001b[0;32m--> 608\u001b[0;31m                     \u001b[0;32mif\u001b[0m \u001b[0;32mnot\u001b[0m \u001b[0mself\u001b[0m\u001b[0;34m.\u001b[0m\u001b[0mindex\u001b[0m\u001b[0;34m.\u001b[0m\u001b[0mis_unique\u001b[0m\u001b[0;34m:\u001b[0m\u001b[0;34m\u001b[0m\u001b[0m\n\u001b[0m\u001b[1;32m    609\u001b[0m                         result = self._constructor(\n\u001b[1;32m    610\u001b[0m                             \u001b[0mresult\u001b[0m\u001b[0;34m,\u001b[0m \u001b[0mindex\u001b[0m\u001b[0;34m=\u001b[0m\u001b[0;34m[\u001b[0m\u001b[0mkey\u001b[0m\u001b[0;34m]\u001b[0m \u001b[0;34m*\u001b[0m \u001b[0mlen\u001b[0m\u001b[0;34m(\u001b[0m\u001b[0mresult\u001b[0m\u001b[0;34m)\u001b[0m\u001b[0;34m,\u001b[0m\u001b[0;34m\u001b[0m\u001b[0m\n",
      "\u001b[0;31mKeyboardInterrupt\u001b[0m: "
     ]
    }
   ],
   "source": [
    "E = []\n",
    "count = 0\n",
    "for i in xrange(len(tempgdf.index)):\n",
    "    start = time.time()\n",
    "    for j in xrange(i+1,len(tempgdf.index)):\n",
    "        \n",
    "        if set(tempgdf['nodes'][tempgdf.index[i]]) & set(tempgdf['nodes'][tempgdf.index[j]]) :\n",
    "            E.append((tempgdf.index[i],tempgdf.index[j]))\n",
    "    \n",
    "    end = time.time()\n",
    "    print start-end\n",
    "    count += 1\n",
    "    if count % 100 ==0:\n",
    "        print count, i\n",
    "    "
   ]
  },
  {
   "cell_type": "code",
   "execution_count": null,
   "metadata": {
    "collapsed": true
   },
   "outputs": [],
   "source": [
    "with open('EdgeOSMNX_Baltimore', 'wb') as myfile:\n",
    "    wr = csv.writer(myfile, quoting=csv.QUOTE_ALL)\n",
    "    wr.writerow(E)"
   ]
  },
  {
   "cell_type": "markdown",
   "metadata": {
    "collapsed": true
   },
   "source": [
    "Get edge take 30 days...."
   ]
  },
  {
   "cell_type": "markdown",
   "metadata": {
    "collapsed": true
   },
   "source": [
    "## Space Complexity\n",
    "\n",
    "\n",
    "Houses : 255433\n",
    "\n",
    "Vacants : 7593\n",
    "\n",
    "Occupied : 247840\n",
    "\n",
    "Compare Houses Set : 247840 x 7593 = 1,881,849,120\n",
    "\n",
    "> Run out of space\n",
    "\n",
    "Edges: Can't Compute\n",
    "\n",
    "> Time Complexity: O($n^2$) = 65,246,017,489\n",
    ">\n",
    "> Time Analysis: 10 seconds for each iteration ( 255433 total )\n",
    ">> Take 15 days total to get edges.....\n"
   ]
  },
  {
   "cell_type": "code",
   "execution_count": 9,
   "metadata": {},
   "outputs": [
    {
     "data": {
      "text/plain": [
       "495680"
      ]
     },
     "execution_count": 9,
     "metadata": {},
     "output_type": "execute_result"
    }
   ],
   "source": [
    "2*247840"
   ]
  },
  {
   "cell_type": "markdown",
   "metadata": {},
   "source": [
    "## Total Complexity Analysis\n",
    "\n",
    "- num of variables\n",
    "\n",
    "> - Delta Method: $$= |H| + |E| + |O|\\times|V| = |H| + |E| + |C|  = O(H+OV+E) = 1,882,104,553 + |E| $$\n",
    "\n",
    "> - Big M Method: $$= |H| + |E| + |O| = O(H+E) = 255,433 + |E|$$ \n",
    "\n",
    "- num of constraint\n",
    "\n",
    "> - Delta Method: $$= 1 + 3|E| + 3|C| = O(E+OV) = 3|E| + 5,645,547,361$$\n",
    "\n",
    "> - Big M Method: $$= 1 + 3|E| + 2|O| = O(E+O) = 3|E| + 495,681$$\n",
    "\n"
   ]
  },
  {
   "cell_type": "code",
   "execution_count": 5,
   "metadata": {},
   "outputs": [
    {
     "data": {
      "text/plain": [
       "1881849120"
      ]
     },
     "execution_count": 5,
     "metadata": {},
     "output_type": "execute_result"
    }
   ],
   "source": [
    "247840*7593"
   ]
  },
  {
   "cell_type": "markdown",
   "metadata": {},
   "source": [
    "### Maximize the numbers of houses to be demolished\n",
    "\n",
    "$$ \\begin{array}{rll}\n",
    "    \\text{max} & \\sum_{i \\in H} x_i \\\\\n",
    "    \\\\[1pt] \n",
    "    \\text{s.t.} & \\sum_{i \\in V} c_ix_i +  \\sum_{(i,j) \\in E} (w_ix_j + w_jx_i) -\\sum_{(i,j) \\in E}(p_{(i,j)} + w_i+w_j )y_{ij} \\leq B_T \\\\ \n",
    "    \\\\\n",
    "    & \\forall (i,j) \\in E \\\\ \n",
    "    & \\;\\;\\;\\;\\;x_i + x_j - y_{ij} \\leq 1 \\\\\n",
    "    & \\;\\;\\;\\;\\;-x_i + y_{ij} \\leq 0 \\\\\n",
    "    & \\;\\;\\;\\;\\;-x_j + y_{ij} \\leq 0 \\\\\n",
    "    \\\\\n",
    "    & x_i \\in \\lbrace 0,1 \\rbrace \\;\\; \\forall  i \\in H\\\\\n",
    "    & y_{ij} \\in \\lbrace 0,1 \\rbrace \\;\\; \\forall  (i,j) \\in E \\\\\n",
    "    \\\\\n",
    "    \\end{array}\n",
    "$$"
   ]
  },
  {
   "cell_type": "markdown",
   "metadata": {},
   "source": [
    "### Minimize the Total Impact\n",
    "\n",
    "$$ \\begin{array}{rll}\n",
    "    \\text{max} & \\sum_{(i,j)\\in C} w_{(i,j)} ( 1 - x_i - x_j + y_{ij} )  \\\\\n",
    "    \\\\[1pt] \n",
    "    \\text{s.t.} & \\sum_{i \\in V} c_ix_i +  \\sum_{(i,j) \\in E} (w_ix_j + w_jx_i) -\\sum_{(i,j) \\in E}(p_{(i,j)} + w_i+w_j )y_{ij} \\leq B_T \\\\\n",
    "    \\\\\n",
    "    & \\forall (i,j) \\in E \\uplus C \\\\\n",
    "    & \\;\\;\\;\\;\\;x_i + x_j - y_{ij} \\leq 1 \\\\\n",
    "    & \\;\\;\\;\\;\\;-x_i + y_{ij} \\leq 0 \\\\\n",
    "    & \\;\\;\\;\\;\\;-x_j + y_{ij} \\leq 0 \\\\\n",
    "    \\\\\n",
    "    & x_i \\in \\lbrace 0,1 \\rbrace \\;\\; \\forall  i \\in H\\\\\n",
    "    & y_{ij} \\in \\lbrace 0,1 \\rbrace \\;\\; \\forall  (i,j) \\in E  \\uplus C \\\\\n",
    "    \\\\\n",
    "    \\end{array}\n",
    "$$"
   ]
  },
  {
   "cell_type": "markdown",
   "metadata": {},
   "source": [
    "### Maximize the minimum distance between occupied and vacant\n",
    "\n",
    "$$ \\begin{array}{rll}\n",
    "    \\text{max} & \\sum_{ i \\in O} t_i \\\\\n",
    "    \\\\[1pt] \n",
    "    \\text{s.t.} & \\sum_{i \\in V} c_ix_i +  \\sum_{(i,j) \\in E} (w_ix_j + w_jx_i) -\\sum_{(i,j) \\in E}(p_{(i,j)} + w_i+w_j )y_{ij} \\leq B_T \\\\\n",
    "    \\\\\n",
    "    & \\forall (i,j) \\in E  \\\\\n",
    "    & \\;\\;\\;\\;\\;x_i + x_j - y_{ij} \\leq 1 \\\\\n",
    "    & \\;\\;\\;\\;\\;-x_i + y_{ij} \\leq 0 \\\\\n",
    "    & \\;\\;\\;\\;\\;-x_j + y_{ij} \\leq 0 \\\\\n",
    "    & \\forall \\;i \\in O \\\\\n",
    "    & \\;\\;\\;\\;\\;t_{i} \\leq d_{i,j}(1-x_j) + M x_j + M x_i\\;\\; \\forall j \\in V \\\\[1pt]\\\\\n",
    "    & t_{i} \\in \\text{Real Number} \\\\\n",
    "    & x_i \\in \\lbrace 0,1 \\rbrace \\;\\; \\forall  i \\in H\\\\\n",
    "    & y_{ij} \\in \\lbrace 0,1 \\rbrace \\;\\; \\forall  (i,j) \\in E \\\\\n",
    "    \\end{array}\n",
    "$$"
   ]
  },
  {
   "cell_type": "markdown",
   "metadata": {},
   "source": [
    "### Minimize the Total Impact ( Big M method version )\n",
    "\n",
    "$$ \\begin{array}{rll}\n",
    "    \\text{max} & \\sum_{ i \\in O} m_i \\\\\n",
    "    \\\\[1pt] \n",
    "    \\text{s.t.} & \\sum_{i \\in V} c_ix_i +  \\sum_{(i,j) \\in E} (w_ix_j + w_jx_i) -\\sum_{(i,j) \\in E}(p_{(i,j)} + w_i+w_j )y_{ij} \\leq B_T \\\\\n",
    "    \\\\\n",
    "    & \\forall (i,j) \\in E \\uplus C \\\\\n",
    "    & \\;\\;\\;\\;\\;x_i + x_j - y_{ij} \\leq 1 \\\\\n",
    "    & \\;\\;\\;\\;\\;-x_i + y_{ij} \\leq 0 \\\\\n",
    "    & \\;\\;\\;\\;\\;-x_j + y_{ij} \\leq 0 \\\\\n",
    "    & \\forall i \\in O \\\\\n",
    "    & \\;\\;\\;\\;\\;m_{i} \\leq \\sum_{j\\in V}w_{(i,j)}(x_j-1) + M(x_i) \\\\ \n",
    "    \\\\\n",
    "    & m_i \\in \\{-\\infty, 0 \\} \\;\\; \\forall i \\in O \\\\\n",
    "    & x_i \\in \\lbrace 0,1 \\rbrace \\;\\; \\forall  i \\in H\\\\\n",
    "    & y_{ij} \\in \\lbrace 0,1 \\rbrace \\;\\; \\forall  (i,j) \\in E  \\uplus C \\\\\n",
    "    \\\\\n",
    "    \\end{array}\n",
    "$$"
   ]
  },
  {
   "cell_type": "code",
   "execution_count": null,
   "metadata": {
    "collapsed": true
   },
   "outputs": [],
   "source": [
    "Memory / APM ( power management ) / Running Time"
   ]
  }
 ],
 "metadata": {
  "kernelspec": {
   "display_name": "Python 2",
   "language": "python",
   "name": "python2"
  },
  "language_info": {
   "codemirror_mode": {
    "name": "ipython",
    "version": 2
   },
   "file_extension": ".py",
   "mimetype": "text/x-python",
   "name": "python",
   "nbconvert_exporter": "python",
   "pygments_lexer": "ipython2",
   "version": "2.7.13"
  }
 },
 "nbformat": 4,
 "nbformat_minor": 2
}
