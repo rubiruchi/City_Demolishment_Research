{
 "cells": [
  {
   "cell_type": "markdown",
   "metadata": {},
   "source": [
    "###  12/28/17\n",
    "\n",
    "- Using CTILP_Optimization_Baltimore_TestComplexity_ver02\n",
    "\n",
    "- Check size/running time for _1516KenhillAve700_171117 \n",
    "\n",
    "- Check radius 800, 900"
   ]
  },
  {
   "cell_type": "code",
   "execution_count": 1,
   "metadata": {
    "collapsed": true
   },
   "outputs": [],
   "source": [
    "import time \n",
    "import sys\n",
    "from CTILP_Optimization_Baltimore_TestComplexity_ver02 import *\n",
    "%matplotlib inline\n",
    "%reload_ext memory_profiler"
   ]
  },
  {
   "cell_type": "code",
   "execution_count": 2,
   "metadata": {},
   "outputs": [
    {
     "name": "stdout",
     "output_type": "stream",
     "text": [
      "Partition of a set of 587198 objects. Total size = 86725016 bytes.\n",
      " Index  Count   %     Size   % Cumulative  % Kind (class / dict of class)\n",
      "     0 194401  33 21846864  25  21846864  25 str\n",
      "     1  25295   4 12801896  15  34648760  40 dict (no owner)\n",
      "     2 137539  23 12608336  15  47257096  54 tuple\n",
      "     3  28265   5  6192408   7  53449504  62 unicode\n",
      "     4   1627   0  4915336   6  58364840  67 dict of module\n",
      "     5  32430   6  4151040   5  62515880  72 types.CodeType\n",
      "     6  31927   5  3831240   4  66347120  77 function\n",
      "     7   3411   1  3212616   4  69559736  80 dict of type\n",
      "     8   3411   1  3081728   4  72641464  84 type\n",
      "     9  11889   2  1780680   2  74422144  86 list\n",
      "<1258 more rows. Type e.g. '_.more' to view.>\n"
     ]
    }
   ],
   "source": [
    "from guppy import hpy \n",
    "h = hpy() \n",
    "print h.heap()"
   ]
  },
  {
   "cell_type": "code",
   "execution_count": 3,
   "metadata": {},
   "outputs": [
    {
     "name": "stdout",
     "output_type": "stream",
     "text": [
      "Vacant Set: VacantSet-OSMNX/vacantOSMNX_1516KenhillAve1000_122917 \n",
      "\n",
      "GEOdataframe get: 4.78224182129  s\n",
      "list size(gdf)  : (7677, 31)\n",
      "size(byte)      : 10557122  bytes \n",
      "\n",
      "initial_housetype......................................\n",
      "House type GEOdataframe get: 172.107361078  s\n",
      "list size(gdf_proj)        : (7677, 32)\n",
      "size(byte)                 : 10618538  bytes \n",
      "\n",
      "initial_storytype..................................\n",
      "GetEdgeSet_OSMNX...................................\n",
      "Edge set get   : 5222.90521002  s\n",
      "list size(edge): 6724\n",
      "size(byte)     : 54576  bytes \n",
      "\n",
      "Get Houses,Renters,Owners,Vacants......................................\n",
      "Houses_Renter_Owner_VacantSet get: 0.235994100571  s\n",
      "Houses :  7657  bytes:  69032  bytes\n",
      "Renters:  6404  bytes:  54576  bytes\n",
      "Owners :  0  bytes:  72  bytes\n",
      "Vacants:  562  bytes:  4856  bytes \n",
      "\n",
      "peak memory: 261.76 MiB, increment: 62.62 MiB\n",
      "time :  5400.4221909 s\n"
     ]
    }
   ],
   "source": [
    "s = time.time()\n",
    "%memit m = OSMNX_Map_ILP('_1516KenhillAve1000_122917', radius=1000, same=True, Baltimore =False) #meters\n",
    "#m.plot()[0]\n",
    "print \"time : \", time.time()-s, \"s\""
   ]
  },
  {
   "cell_type": "code",
   "execution_count": 4,
   "metadata": {},
   "outputs": [
    {
     "name": "stdout",
     "output_type": "stream",
     "text": [
      "set_budget................................................\n",
      "Budget set get        : 1.53909802437  s\n",
      "Cost:  7657  bytes:  61440\n",
      "Wall:  20172  bytes:  163728\n",
      "Benefit:  6724  bytes:  54576\n",
      "peak memory: 186.77 MiB, increment: 16.20 MiB\n",
      "\n",
      "time :  2.31512284279 s\n"
     ]
    }
   ],
   "source": [
    "s = time.time()\n",
    "%memit m.initial_ILP()\n",
    "print \"\\ntime : \", time.time()-s, \"s\""
   ]
  },
  {
   "cell_type": "code",
   "execution_count": 5,
   "metadata": {
    "scrolled": true
   },
   "outputs": [
    {
     "name": "stdout",
     "output_type": "stream",
     "text": [
      "GetCompareHousesSet_OSMNX..............................\n",
      "Compare set get        : 0.837507963181  s\n",
      "list size(comparehouse): 3599048\n",
      "size(byte)             : 31774880  bytes \n",
      "\n",
      "add constraint for bigM variables..................\n",
      "Constraint for BigM get:  696.992386103  s\n",
      "peak memory: 503.50 MiB, increment: 316.70 MiB\n",
      "\n",
      " Total time :  700.402023077 s\n"
     ]
    }
   ],
   "source": [
    "#m.initial_price(Budget = 500000)\n",
    "s = time.time()\n",
    "%memit m.update_model_OSMNX(distance_OSMNX,affect_OSMNX, power = 1, d_e = 240, model = 2)\n",
    "\n",
    "print \"\\n Total time : \", time.time()-s, \"s\""
   ]
  },
  {
   "cell_type": "code",
   "execution_count": 6,
   "metadata": {},
   "outputs": [
    {
     "name": "stdout",
     "output_type": "stream",
     "text": [
      "Optimize a model with 54164 rows, 27509 columns and 435821 nonzeros\n",
      "Variable types: 6404 continuous, 21105 integer (21105 binary)\n",
      "Coefficient statistics:\n",
      "  Matrix range     [4e-03, 1e+05]\n",
      "  Objective range  [1e+00, 1e+00]\n",
      "  Bounds range     [1e+00, 1e+00]\n",
      "  RHS range        [4e-03, 5e+05]\n",
      "Found heuristic solution: objective -2754.25\n",
      "Presolve removed 4234 rows and 1717 columns\n",
      "Presolve time: 1.19s\n",
      "Presolved: 49930 rows, 25792 columns, 424323 nonzeros\n",
      "Variable types: 6392 continuous, 19400 integer (19396 binary)\n",
      "\n",
      "Root relaxation: objective -2.620373e+03, 9622 iterations, 1.57 seconds\n",
      "\n",
      "    Nodes    |    Current Node    |     Objective Bounds      |     Work\n",
      " Expl Unexpl |  Obj  Depth IntInf | Incumbent    BestBd   Gap | It/Node Time\n",
      "\n",
      "     0     0 -2620.3730    0    5 -2754.2458 -2620.3730  4.86%     -    3s\n",
      "H    0     0                    -2653.822146 -2620.3730  1.26%     -    3s\n",
      "     0     0 -2620.3730    0    5 -2653.8221 -2620.3730  1.26%     -    3s\n",
      "H    0     0                    -2621.583762 -2620.3730  0.05%     -    3s\n",
      "     0     0 -2620.3901    0    6 -2621.5838 -2620.3901  0.05%     -    4s\n",
      "     0     0 -2620.4546    0   12 -2621.5838 -2620.4546  0.04%     -    4s\n",
      "     0     0 -2621.5725    0    1 -2621.5838 -2621.5725  0.00%     -    4s\n",
      "\n",
      "Explored 0 nodes (9728 simplex iterations) in 4.87 seconds\n",
      "Thread count was 4 (of 4 available processors)\n",
      "\n",
      "Solution count 3: -2621.58 -2653.82 -2754.25 \n",
      "Pool objective bound -2621.57\n",
      "\n",
      "Optimal solution found (tolerance 1.00e-04)\n",
      "Best objective -2.621583761523e+03, best bound -2.621572524048e+03, gap 0.0004%\n",
      "peak memory: 345.69 MiB, increment: 144.98 MiB\n",
      "plot....................................................\n",
      "drawing time: 192.676170111  s \n",
      "\n",
      "peak memory: 330.77 MiB, increment: 0.01 MiB\n",
      "total time :  198.974397898 s\n"
     ]
    }
   ],
   "source": [
    "s = time.time()\n",
    "for i in xrange(1):\n",
    "    %memit m.solve()\n",
    "    m.plot(m.x, size = 10, name = \"bigM-power1-distance240-nonnormal_1516KenhillAve900_122917\"+str(i) )\n",
    "    %memit m.no_good_update()\n",
    "    \n",
    "print \"total time : \", time.time()-s, \"s\""
   ]
  },
  {
   "cell_type": "code",
   "execution_count": 7,
   "metadata": {},
   "outputs": [
    {
     "data": {
      "text/plain": [
       "['Budget : 495000.0   number of houses : 23.0   ObjVal : -2621.58376152   Running Time : 4.88356685638']"
      ]
     },
     "execution_count": 7,
     "metadata": {},
     "output_type": "execute_result"
    }
   ],
   "source": [
    "m.status"
   ]
  },
  {
   "cell_type": "code",
   "execution_count": 8,
   "metadata": {
    "scrolled": true
   },
   "outputs": [
    {
     "name": "stdout",
     "output_type": "stream",
     "text": [
      "Partition of a set of 908064 objects. Total size = 126334704 bytes.\n",
      " Index  Count   %     Size   % Cumulative  % Kind (class / dict of class)\n",
      "     0 194455  21 21855704  17  21855704  17 str\n",
      "     1  25160   3 15901376  13  37757080  30 dict (no owner)\n",
      "     2  54166   6 15166480  12  52923560  42 dict of gurobipy.Constr\n",
      "     3 144483  16 13110704  10  66034264  52 tuple\n",
      "     4  27509   3  7702520   6  73736784  58 dict of gurobipy.Var\n",
      "     5  28328   3  6202696   5  79939480  63 unicode\n",
      "     6   1629   0  4922040   4  84861520  67 dict of module\n",
      "     7  32467   4  4155776   3  89017296  70 types.CodeType\n",
      "     8  31962   4  3835440   3  92852736  73 function\n",
      "     9 157481  17  3779544   3  96632280  76 int\n",
      "<1251 more rows. Type e.g. '_.more' to view.>\n"
     ]
    }
   ],
   "source": [
    "h = hpy() \n",
    "print h.heap()"
   ]
  },
  {
   "cell_type": "markdown",
   "metadata": {},
   "source": [
    "# Record"
   ]
  },
  {
   "cell_type": "raw",
   "metadata": {},
   "source": [
    "--------------------------------_1516KenhillAve800_122817 ---------------------------------------\n",
    "\n",
    "GetEdgeSet_OSMNX...................................\n",
    "Edge set get   : 2070.94367695  s\n",
    "list size(edge): 4185\n",
    "size(byte)     : 33936  bytes \n",
    "\n",
    "\n",
    "GetCompareHousesSet_OSMNX..............................\n",
    "Compare set get        : 0.336296081543  s\n",
    "list size(comparehouse): 1373876\n",
    "size(byte)             : 11007840  bytes \n",
    "\n",
    "add constraint for bigM variables..................\n",
    "Constraint for BigM get:  280.218630791  s\n",
    "peak memory: 382.79 MiB, increment: 101.17 MiB\n",
    "\n",
    "Total time :  281.945421934 s\n",
    "\n",
    "Explored 0 nodes (6103 simplex iterations) in 2.76 seconds\n",
    "Thread count was 4 (of 4 available processors)\n",
    "\n",
    "Solution count 7: -1533.94 -1533.96 -1536.44 ... -1663.3\n",
    "Pool objective bound -1533.79\n",
    "\n",
    "Optimal solution found (tolerance 1.00e-04)\n",
    "Best objective -1.533941955380e+03, best bound -1.533791056664e+03, gap 0.0098%\n",
    "peak memory: 373.73 MiB, increment: 81.53 MiB\n",
    "\n",
    "\n",
    "Partition of a set of 786317 objects. Total size = 108208288 bytes.\n",
    " Index  Count   %     Size   % Cumulative  % Kind (class / dict of class)\n",
    "     0 194759  25 21892376  20  21892376  20 str\n",
    "     1 142193  18 12951480  12  34843856  32 tuple\n",
    "     2  25198   3 12674896  12  47518752  44 dict (no owner)\n",
    "     3  33688   4  9432640   9  56951392  53 dict of gurobipy.Constr\n",
    "     4  28223   4  6201184   6  63152576  58 unicode\n",
    "     5   1629   0  4922040   5  68074616  63 dict of module\n",
    "     6  17005   2  4761400   4  72836016  67 dict of gurobipy.Var\n",
    "     7  32529   4  4163712   4  76999728  71 types.CodeType\n",
    "     8  32013   4  3841560   4  80841288  75 function\n",
    "     9   3410   0  3218480   3  84059768  78 dict of type\n",
    "<1253 more rows. Type e.g. '_.more' to view.>\n",
    "\n",
    "\n",
    "\n",
    "--------------------------------_1516KenhillAve900_122917 ---------------------------------------\n",
    "\n",
    "GetEdgeSet_OSMNX...................................\n",
    "Edge set get   : 3016.04961205  s\n",
    "list size(edge): 5359\n",
    "size(byte)     : 43048  bytes \n",
    "\n",
    "\n",
    "GetCompareHousesSet_OSMNX..............................\n",
    "Compare set get        : 0.425621032715  s\n",
    "list size(comparehouse): 2278001\n",
    "size(byte)             : 19836768  bytes \n",
    "\n",
    "add constraint for bigM variables..................\n",
    "Constraint for BigM get:  399.237891912  s\n",
    "peak memory: 405.24 MiB, increment: 185.74 MiB\n",
    "\n",
    "Total time :  401.149128914 s\n",
    " \n",
    " \n",
    "Optimal solution found (tolerance 1.00e-04)\n",
    "Best objective -1.993704764143e+03, best bound -1.993508910580e+03, gap 0.0098%\n",
    "peak memory: 346.17 MiB, increment: 107.98 MiB\n",
    "plot....................................................\n",
    "drawing time: 116.452213049  s \n",
    "\n",
    "peak memory: 320.22 MiB, increment: 0.00 MiB\n",
    "total time :  120.083296061 s\n",
    "\n",
    "\n",
    "Partition of a set of 842205 objects. Total size = 115985472 bytes.\n",
    " Index  Count   %     Size   % Cumulative  % Kind (class / dict of class)\n",
    "     0 194459  23 21856832  19  21856832  19 str\n",
    "     1  25163   3 14133128  12  35989960  31 dict (no owner)\n",
    "     2 143121  17 13012592  11  49002552  42 tuple\n",
    "     3  43146   5 12080880  10  61083432  53 dict of gurobipy.Constr\n",
    "     4  28328   3  6202672   5  67286104  58 unicode\n",
    "     5  21850   3  6118000   5  73404104  63 dict of gurobipy.Var\n",
    "     6   1629   0  4922040   4  78326144  68 dict of module\n",
    "     7  32467   4  4155776   4  82481920  71 types.CodeType\n",
    "     8  31965   4  3835800   3  86317720  74 function\n",
    "     9   3404   0  3212960   3  89530680  77 dict of type\n",
    "<1252 more rows. Type e.g. '_.more' to view.>\n",
    "\n",
    "\n",
    "\n",
    "\n",
    "--------------------------------_1516KenhillAve1000_122917 ---------------------------------------\n",
    "\n",
    "initial_housetype......................................\n",
    "House type GEOdataframe get: 172.107361078  s\n",
    "list size(gdf_proj)        : (7677, 32)\n",
    "size(byte)                 : 10618538  bytes \n",
    "\n",
    "GetEdgeSet_OSMNX...................................\n",
    "Edge set get   : 5222.90521002  s\n",
    "list size(edge): 6724\n",
    "size(byte)     : 54576  bytes \n",
    "\n",
    "Get Houses,Renters,Owners,Vacants......................................\n",
    "Houses_Renter_Owner_VacantSet get: 0.235994100571  s\n",
    "Houses :  7657  bytes:  69032  bytes\n",
    "Renters:  6404  bytes:  54576  bytes\n",
    "Owners :  0  bytes:  72  bytes\n",
    "Vacants:  562  bytes:  4856  bytes \n",
    "\n",
    "peak memory: 261.76 MiB, increment: 62.62 MiB\n",
    "time :  5400.4221909 s\n",
    "\n",
    "\n",
    "GetCompareHousesSet_OSMNX..............................\n",
    "Compare set get        : 0.837507963181  s\n",
    "list size(comparehouse): 3599048\n",
    "size(byte)             : 31774880  bytes \n",
    "\n",
    "add constraint for bigM variables..................\n",
    "Constraint for BigM get:  696.992386103  s\n",
    "peak memory: 503.50 MiB, increment: 316.70 MiB\n",
    "\n",
    "Total time :  700.402023077 s\n",
    "\n",
    "Explored 0 nodes (9728 simplex iterations) in 4.87 seconds\n",
    "Thread count was 4 (of 4 available processors)\n",
    "\n",
    "Solution count 3: -2621.58 -2653.82 -2754.25 \n",
    "Pool objective bound -2621.57\n",
    "\n",
    "Optimal solution found (tolerance 1.00e-04)\n",
    "Best objective -2.621583761523e+03, best bound -2.621572524048e+03, gap 0.0004%\n",
    "peak memory: 345.69 MiB, increment: 144.98 MiB\n",
    "plot....................................................\n",
    "drawing time: 192.676170111  s \n",
    "\n",
    "\n",
    "Partition of a set of 908064 objects. Total size = 126334704 bytes.\n",
    " Index  Count   %     Size   % Cumulative  % Kind (class / dict of class)\n",
    "     0 194455  21 21855704  17  21855704  17 str\n",
    "     1  25160   3 15901376  13  37757080  30 dict (no owner)\n",
    "     2  54166   6 15166480  12  52923560  42 dict of gurobipy.Constr\n",
    "     3 144483  16 13110704  10  66034264  52 tuple\n",
    "     4  27509   3  7702520   6  73736784  58 dict of gurobipy.Var\n",
    "     5  28328   3  6202696   5  79939480  63 unicode\n",
    "     6   1629   0  4922040   4  84861520  67 dict of module\n",
    "     7  32467   4  4155776   3  89017296  70 types.CodeType\n",
    "     8  31962   4  3835440   3  92852736  73 function\n",
    "     9 157481  17  3779544   3  96632280  76 int\n",
    "<1251 more rows. Type e.g. '_.more' to view.>"
   ]
  },
  {
   "cell_type": "code",
   "execution_count": null,
   "metadata": {
    "collapsed": true
   },
   "outputs": [],
   "source": []
  }
 ],
 "metadata": {
  "kernelspec": {
   "display_name": "Python 2",
   "language": "python",
   "name": "python2"
  },
  "language_info": {
   "codemirror_mode": {
    "name": "ipython",
    "version": 2
   },
   "file_extension": ".py",
   "mimetype": "text/x-python",
   "name": "python",
   "nbconvert_exporter": "python",
   "pygments_lexer": "ipython2",
   "version": "2.7.13"
  }
 },
 "nbformat": 4,
 "nbformat_minor": 2
}
