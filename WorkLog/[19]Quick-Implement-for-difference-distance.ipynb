{
 "cells": [
  {
   "cell_type": "code",
   "execution_count": 1,
   "metadata": {
    "collapsed": true
   },
   "outputs": [],
   "source": [
    "from CTILP_Optimization_Baltimore_TestComplexity import *\n",
    "%matplotlib inline\n",
    "import time \n",
    "%load_ext memory_profiler"
   ]
  },
  {
   "cell_type": "code",
   "execution_count": 2,
   "metadata": {},
   "outputs": [
    {
     "name": "stdout",
     "output_type": "stream",
     "text": [
      "Partition of a set of 587006 objects. Total size = 85832560 bytes.\n",
      " Index  Count   %     Size   % Cumulative  % Kind (class / dict of class)\n",
      "     0 194371  33 21843752  25  21843752  25 str\n",
      "     1 137548  23 12608472  15  34452224  40 tuple\n",
      "     2  25317   4 11927160  14  46379384  54 dict (no owner)\n",
      "     3  28106   5  6181696   7  52561080  61 unicode\n",
      "     4   1627   0  4915336   6  57476416  67 dict of module\n",
      "     5  32432   6  4151296   5  61627712  72 types.CodeType\n",
      "     6  31929   5  3831480   4  65459192  76 function\n",
      "     7   3412   1  3212896   4  68672088  80 dict of type\n",
      "     8   3412   1  3082632   4  71754720  84 type\n",
      "     9  11845   2  1774696   2  73529416  86 list\n",
      "<1258 more rows. Type e.g. '_.more' to view.>\n"
     ]
    }
   ],
   "source": [
    "from guppy import hpy \n",
    "h = hpy() \n",
    "print h.heap()"
   ]
  },
  {
   "cell_type": "code",
   "execution_count": 3,
   "metadata": {},
   "outputs": [
    {
     "name": "stdout",
     "output_type": "stream",
     "text": [
      "************Get the VacantSet : VacantSet-OSMNX/vacantOSMNX_1516KenhillAve700_171117\n",
      "initial setting set\n",
      "initial house set\n",
      "************Get the EdgeSet : EdgeSet-OSMNX/EdgeOSMNX_1516KenhillAve700_171117\n",
      "initial edge set\n",
      "initial HORV\n",
      "initial comparehouses\n",
      "peak memory: 197.85 MiB, increment: 1.36 MiB\n",
      "Time of Getting Data:  45.0582709312 s\n"
     ]
    }
   ],
   "source": [
    "s = time.time()\n",
    "%memit m = OSMNX_Map('_1516KenhillAve700_171117', radius=700, same=True, Baltimore =False) #meters\n",
    "print \"Time of Getting Data: \", time.time()-s , \"s\""
   ]
  },
  {
   "cell_type": "code",
   "execution_count": 4,
   "metadata": {
    "scrolled": true
   },
   "outputs": [
    {
     "name": "stdout",
     "output_type": "stream",
     "text": [
      "peak memory: 196.84 MiB, increment: 0.75 MiB\n",
      "peak memory: 196.84 MiB, increment: 0.00 MiB\n",
      "Time of setup model:  1.66906809807 s\n",
      "peak memory: 282.43 MiB, increment: 85.59 MiB\n",
      "Time of setup constraint:  158.117887974 s\n"
     ]
    }
   ],
   "source": [
    "s = time.time()\n",
    "%memit model_240 = ILP_sol(m.Houses, m.Edge, m.gdf)\n",
    "%memit model_240.initial_price(Budget = 500000)\n",
    "print \"Time of setup model: \", time.time()-s , \"s\"\n",
    "\n",
    "s = time.time()\n",
    "%memit model_240.update_model_OSMNX(distance_OSMNX,affect_OSMNX,CompareHouses = m.GetCompareHousesSet_OSMNX(),power = 1, d_e = 240, model = 2)\n",
    "print \"Time of setup constraint: \", time.time()-s , \"s\""
   ]
  },
  {
   "cell_type": "code",
   "execution_count": 5,
   "metadata": {},
   "outputs": [
    {
     "name": "stdout",
     "output_type": "stream",
     "text": [
      "Optimize a model with 26096 rows, 13215 columns and 219788 nonzeros\n",
      "Variable types: 3042 continuous, 10173 integer (10173 binary)\n",
      "Coefficient statistics:\n",
      "  Matrix range     [4e-03, 1e+05]\n",
      "  Objective range  [1e+00, 1e+00]\n",
      "  Bounds range     [1e+00, 1e+00]\n",
      "  RHS range        [5e-03, 5e+05]\n",
      "Found heuristic solution: objective -1379.53\n",
      "Presolve removed 2353 rows and 954 columns\n",
      "Presolve time: 0.39s\n",
      "Presolved: 23743 rows, 12261 columns, 213396 nonzeros\n",
      "Variable types: 3035 continuous, 9226 integer (9225 binary)\n",
      "\n",
      "Root relaxation: objective -1.249218e+03, 5214 iterations, 0.59 seconds\n",
      "\n",
      "    Nodes    |    Current Node    |     Objective Bounds      |     Work\n",
      " Expl Unexpl |  Obj  Depth IntInf | Incumbent    BestBd   Gap | It/Node Time\n",
      "\n",
      "     0     0 -1249.2181    0    2 -1379.5293 -1249.2181  9.45%     -    1s\n",
      "H    0     0                    -1259.775821 -1249.2181  0.84%     -    1s\n",
      "     0     0 -1249.3022    0    9 -1259.7758 -1249.3022  0.83%     -    1s\n",
      "H    0     0                    -1252.790670 -1249.3022  0.28%     -    1s\n",
      "     0     0 -1249.3022    0    1 -1252.7907 -1249.3022  0.28%     -    1s\n",
      "H    0     0                    -1250.269114 -1249.3022  0.08%     -    1s\n",
      "     0     0 -1249.3022    0    5 -1250.2691 -1249.3022  0.08%     -    1s\n",
      "     0     0 -1250.0503    0    1 -1250.2691 -1250.0503  0.02%     -    1s\n",
      "H    0     0                    -1250.238844 -1250.0503  0.02%     -    1s\n",
      "     0     0 -1250.0915    0    1 -1250.2388 -1250.0915  0.01%     -    1s\n",
      "\n",
      "Cutting planes:\n",
      "  Cover: 1\n",
      "\n",
      "Explored 0 nodes (5319 simplex iterations) in 1.97 seconds\n",
      "Thread count was 4 (of 4 available processors)\n",
      "\n",
      "Solution count 5: -1250.24 -1250.27 -1252.79 ... -1379.53\n",
      "Pool objective bound -1250.24\n",
      "\n",
      "Optimal solution found (tolerance 1.00e-04)\n",
      "Best objective -1.250238844402e+03, best bound -1.250238844402e+03, gap 0.0000%\n",
      "peak memory: 277.91 MiB, increment: 68.70 MiB\n",
      "peak memory: 258.41 MiB, increment: 0.00 MiB\n",
      "Time of solving plus draw ( 0 ): 48.7934758663 s\n"
     ]
    }
   ],
   "source": [
    "s = time.time()\n",
    "for i in xrange(1):\n",
    "    %memit model_240.solve()\n",
    "    m.plot(model_240.x, size = 10, name = \"bigM-power1-distance240-nonnormal-1516KenhillAve700-171117\"+str(i) )\n",
    "    %memit model_240.no_good_update()\n",
    "print \"Time of solving plus draw (\", i , \"):\" , time.time()-s , \"s\""
   ]
  },
  {
   "cell_type": "code",
   "execution_count": 6,
   "metadata": {},
   "outputs": [
    {
     "data": {
      "text/plain": [
       "['Budget : 496000.0   number of houses : 22.0   ObjVal : -1250.2388444   Running Time : 1.98448491096']"
      ]
     },
     "execution_count": 6,
     "metadata": {},
     "output_type": "execute_result"
    }
   ],
   "source": [
    "model_240.status"
   ]
  },
  {
   "cell_type": "code",
   "execution_count": 7,
   "metadata": {},
   "outputs": [
    {
     "name": "stdout",
     "output_type": "stream",
     "text": [
      "Time of plotting:  45.6764991283 s\n"
     ]
    }
   ],
   "source": [
    "s = time.time()\n",
    "m.plot()[0]\n",
    "print \"Time of plotting: \", time.time()-s , \"s\""
   ]
  }
 ],
 "metadata": {
  "kernelspec": {
   "display_name": "Python 2",
   "language": "python",
   "name": "python2"
  },
  "language_info": {
   "codemirror_mode": {
    "name": "ipython",
    "version": 2
   },
   "file_extension": ".py",
   "mimetype": "text/x-python",
   "name": "python",
   "nbconvert_exporter": "python",
   "pygments_lexer": "ipython2",
   "version": "2.7.13"
  }
 },
 "nbformat": 4,
 "nbformat_minor": 2
}
