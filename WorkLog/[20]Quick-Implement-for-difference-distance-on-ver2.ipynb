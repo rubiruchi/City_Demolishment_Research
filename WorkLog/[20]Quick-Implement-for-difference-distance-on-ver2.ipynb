{
 "cells": [
  {
   "cell_type": "code",
   "execution_count": 1,
   "metadata": {},
   "outputs": [],
   "source": [
    "import time \n",
    "from CTILP_Optimization_Baltimore_TestComplexity_ver02 import *\n",
    "%matplotlib inline"
   ]
  },
  {
   "cell_type": "code",
   "execution_count": 2,
   "metadata": {},
   "outputs": [
    {
     "name": "stdout",
     "output_type": "stream",
     "text": [
      "************Get the VacantSet : VacantSet-OSMNX/vacantOSMNX_1516KenhillAve700_171117\n",
      "initial setting set\n",
      "initial house set\n",
      "************Get the EdgeSet : EdgeSet-OSMNX/EdgeOSMNX_1516KenhillAve700_171117\n",
      "initial edge set\n",
      "initial HORV\n",
      "initial comparehouses\n",
      "time :  44.2203660011 s\n"
     ]
    }
   ],
   "source": [
    "s = time.time()\n",
    "m = OSMNX_Map_ILP('_1516KenhillAve700_171117', radius=700, same=True, Baltimore =False) #meters\n",
    "#m.plot()[0]\n",
    "print \"time : \", time.time()-s, \"s\""
   ]
  },
  {
   "cell_type": "code",
   "execution_count": 3,
   "metadata": {},
   "outputs": [
    {
     "name": "stdout",
     "output_type": "stream",
     "text": [
      "time :  0.664974927902 s\n"
     ]
    }
   ],
   "source": [
    "s = time.time()\n",
    "m.initial_ILP()\n",
    "print \"time : \", time.time()-s, \"s\""
   ]
  },
  {
   "cell_type": "code",
   "execution_count": 4,
   "metadata": {
    "scrolled": true
   },
   "outputs": [
    {
     "name": "stdout",
     "output_type": "stream",
     "text": [
      "time :  146.202261925 s\n"
     ]
    }
   ],
   "source": [
    "#m.initial_price(Budget = 500000)\n",
    "s = time.time()\n",
    "m.update_model_OSMNX(distance_OSMNX,affect_OSMNX,\n",
    "                     power = 1, d_e = 240, model = 2)\n",
    "print \"time : \", time.time()-s, \"s\""
   ]
  },
  {
   "cell_type": "code",
   "execution_count": 5,
   "metadata": {},
   "outputs": [
    {
     "name": "stdout",
     "output_type": "stream",
     "text": [
      "Optimize a model with 26096 rows, 13215 columns and 219788 nonzeros\n",
      "Variable types: 3042 continuous, 10173 integer (10173 binary)\n",
      "Coefficient statistics:\n",
      "  Matrix range     [4e-03, 1e+05]\n",
      "  Objective range  [1e+00, 1e+00]\n",
      "  Bounds range     [1e+00, 1e+00]\n",
      "  RHS range        [5e-03, 5e+05]\n",
      "Found heuristic solution: objective -1379.53\n",
      "Presolve removed 2353 rows and 954 columns\n",
      "Presolve time: 0.39s\n",
      "Presolved: 23743 rows, 12261 columns, 213396 nonzeros\n",
      "Variable types: 3035 continuous, 9226 integer (9225 binary)\n",
      "\n",
      "Root relaxation: objective -1.249218e+03, 5214 iterations, 0.59 seconds\n",
      "\n",
      "    Nodes    |    Current Node    |     Objective Bounds      |     Work\n",
      " Expl Unexpl |  Obj  Depth IntInf | Incumbent    BestBd   Gap | It/Node Time\n",
      "\n",
      "     0     0 -1249.2181    0    2 -1379.5293 -1249.2181  9.45%     -    1s\n",
      "H    0     0                    -1259.775821 -1249.2181  0.84%     -    1s\n",
      "     0     0 -1249.3022    0    9 -1259.7758 -1249.3022  0.83%     -    1s\n",
      "H    0     0                    -1252.790670 -1249.3022  0.28%     -    1s\n",
      "     0     0 -1249.3022    0    1 -1252.7907 -1249.3022  0.28%     -    1s\n",
      "H    0     0                    -1250.269114 -1249.3022  0.08%     -    1s\n",
      "     0     0 -1249.3022    0    5 -1250.2691 -1249.3022  0.08%     -    1s\n",
      "     0     0 -1250.0503    0    1 -1250.2691 -1250.0503  0.02%     -    1s\n",
      "H    0     0                    -1250.238844 -1250.0503  0.02%     -    1s\n",
      "     0     0 -1250.0915    0    1 -1250.2388 -1250.0915  0.01%     -    1s\n",
      "\n",
      "Cutting planes:\n",
      "  Cover: 1\n",
      "\n",
      "Explored 0 nodes (5319 simplex iterations) in 1.89 seconds\n",
      "Thread count was 4 (of 4 available processors)\n",
      "\n",
      "Solution count 5: -1250.24 -1250.27 -1252.79 ... -1379.53\n",
      "Pool objective bound -1250.24\n",
      "\n",
      "Optimal solution found (tolerance 1.00e-04)\n",
      "Best objective -1.250238844402e+03, best bound -1.250238844402e+03, gap 0.0000%\n",
      "Optimize a model with 26097 rows, 13215 columns and 219810 nonzeros\n",
      "Variable types: 3042 continuous, 10173 integer (10173 binary)\n",
      "Coefficient statistics:\n",
      "  Matrix range     [4e-03, 1e+05]\n",
      "  Objective range  [1e+00, 1e+00]\n",
      "  Bounds range     [1e+00, 1e+00]\n",
      "  RHS range        [5e-03, 5e+05]\n",
      "Found heuristic solution: objective -1379.53\n",
      "Presolve removed 2353 rows and 954 columns\n",
      "Presolve time: 0.36s\n",
      "Presolved: 23744 rows, 12261 columns, 213418 nonzeros\n",
      "\n",
      "MIP start did not produce a new incumbent solution\n",
      "MIP start violates constraint temp by 1.000000000\n",
      "\n",
      "Variable types: 3035 continuous, 9226 integer (9225 binary)\n",
      "\n",
      "Root relaxation: objective -1.249218e+03, 5044 iterations, 0.67 seconds\n",
      "\n",
      "    Nodes    |    Current Node    |     Objective Bounds      |     Work\n",
      " Expl Unexpl |  Obj  Depth IntInf | Incumbent    BestBd   Gap | It/Node Time\n",
      "\n",
      "     0     0 -1249.2181    0    2 -1379.5293 -1249.2181  9.45%     -    1s\n",
      "H    0     0                    -1259.775821 -1249.2181  0.84%     -    1s\n",
      "     0     0 -1249.3022    0    9 -1259.7758 -1249.3022  0.83%     -    1s\n",
      "H    0     0                    -1252.790670 -1249.3022  0.28%     -    1s\n",
      "     0     0 -1249.3022    0    1 -1252.7907 -1249.3022  0.28%     -    1s\n",
      "H    0     0                    -1250.269114 -1249.3022  0.08%     -    1s\n",
      "     0     0 -1249.3022    0    5 -1250.2691 -1249.3022  0.08%     -    1s\n",
      "     0     0 -1250.0503    0    1 -1250.2691 -1250.0503  0.02%     -    1s\n",
      "H    0     0                    -1250.242392 -1250.0503  0.02%     -    1s\n",
      "     0     0 -1250.1036    0    3 -1250.2424 -1250.1036  0.01%     -    1s\n",
      "     0     0 -1250.2386    0    2 -1250.2424 -1250.2386  0.00%     -    1s\n",
      "\n",
      "Explored 0 nodes (5149 simplex iterations) in 1.94 seconds\n",
      "Thread count was 4 (of 4 available processors)\n",
      "\n",
      "Solution count 5: -1250.24 -1250.27 -1252.79 ... -1379.53\n",
      "Pool objective bound -1250.24\n",
      "\n",
      "Optimal solution found (tolerance 1.00e-04)\n",
      "Best objective -1.250242392165e+03, best bound -1.250238589943e+03, gap 0.0003%\n",
      "Optimize a model with 26098 rows, 13215 columns and 219832 nonzeros\n",
      "Variable types: 3042 continuous, 10173 integer (10173 binary)\n",
      "Coefficient statistics:\n",
      "  Matrix range     [4e-03, 1e+05]\n",
      "  Objective range  [1e+00, 1e+00]\n",
      "  Bounds range     [1e+00, 1e+00]\n",
      "  RHS range        [5e-03, 5e+05]\n",
      "Found heuristic solution: objective -1379.53\n",
      "Presolve removed 2353 rows and 954 columns\n",
      "Presolve time: 0.38s\n",
      "Presolved: 23745 rows, 12261 columns, 213440 nonzeros\n",
      "\n",
      "MIP start did not produce a new incumbent solution\n",
      "MIP start violates constraint temp by 1.000000000\n",
      "\n",
      "Variable types: 3035 continuous, 9226 integer (9225 binary)\n",
      "\n",
      "Root relaxation: objective -1.249218e+03, 4824 iterations, 0.71 seconds\n",
      "\n",
      "    Nodes    |    Current Node    |     Objective Bounds      |     Work\n",
      " Expl Unexpl |  Obj  Depth IntInf | Incumbent    BestBd   Gap | It/Node Time\n",
      "\n",
      "     0     0 -1249.2181    0    2 -1379.5293 -1249.2181  9.45%     -    1s\n",
      "H    0     0                    -1259.775821 -1249.2181  0.84%     -    1s\n",
      "     0     0 -1249.3022    0    9 -1259.7758 -1249.3022  0.83%     -    1s\n",
      "H    0     0                    -1252.790670 -1249.3022  0.28%     -    1s\n",
      "     0     0 -1249.3022    0    1 -1252.7907 -1249.3022  0.28%     -    1s\n",
      "H    0     0                    -1250.269114 -1249.3022  0.08%     -    1s\n",
      "     0     0 -1249.3022    0    5 -1250.2691 -1249.3022  0.08%     -    1s\n",
      "     0     0 -1250.0503    0    1 -1250.2691 -1250.0503  0.02%     -    1s\n",
      "     0     0 -1250.1072    0    4 -1250.2691 -1250.1072  0.01%     -    1s\n",
      "     0     0 -1250.2386    0    2 -1250.2691 -1250.2386  0.00%     -    1s\n",
      "\n",
      "Explored 0 nodes (4933 simplex iterations) in 1.94 seconds\n",
      "Thread count was 4 (of 4 available processors)\n",
      "\n",
      "Solution count 4: -1250.27 -1252.79 -1259.78 -1379.53 \n",
      "Pool objective bound -1250.24\n",
      "\n",
      "Optimal solution found (tolerance 1.00e-04)\n",
      "Best objective -1.250269113730e+03, best bound -1.250238589943e+03, gap 0.0024%\n",
      "time :  146.275215864 s\n"
     ]
    }
   ],
   "source": [
    "s = time.time()\n",
    "for i in xrange(3):\n",
    "    m.solve()\n",
    "    m.plot(m.x, size = 10, name = \"bigM-power1-distance240-nonnormal-1516KenhillAve700-171117\"+str(i) )\n",
    "    m.no_good_update()\n",
    "    \n",
    "print \"time : \", time.time()-s, \"s\""
   ]
  },
  {
   "cell_type": "code",
   "execution_count": 6,
   "metadata": {},
   "outputs": [
    {
     "data": {
      "text/plain": [
       "['Budget : 496000.0   number of houses : 22.0   ObjVal : -1250.2388444   Running Time : 1.90681004524',\n",
       " 'Budget : 496000.0   number of houses : 22.0   ObjVal : -1250.24239216   Running Time : 1.95427584648',\n",
       " 'Budget : 496000.0   number of houses : 22.0   ObjVal : -1250.26911373   Running Time : 1.9527721405']"
      ]
     },
     "execution_count": 6,
     "metadata": {},
     "output_type": "execute_result"
    }
   ],
   "source": [
    "m.status"
   ]
  },
  {
   "cell_type": "code",
   "execution_count": null,
   "metadata": {
    "collapsed": true
   },
   "outputs": [],
   "source": []
  }
 ],
 "metadata": {
  "kernelspec": {
   "display_name": "Python 2",
   "language": "python",
   "name": "python2"
  },
  "language_info": {
   "codemirror_mode": {
    "name": "ipython",
    "version": 2
   },
   "file_extension": ".py",
   "mimetype": "text/x-python",
   "name": "python",
   "nbconvert_exporter": "python",
   "pygments_lexer": "ipython2",
   "version": "2.7.13"
  }
 },
 "nbformat": 4,
 "nbformat_minor": 2
}
