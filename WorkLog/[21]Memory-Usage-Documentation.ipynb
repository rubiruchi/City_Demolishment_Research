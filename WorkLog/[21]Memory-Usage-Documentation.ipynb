{
 "cells": [
  {
   "cell_type": "markdown",
   "metadata": {},
   "source": [
    "### Source\n",
    "http://fa.bianp.net/blog/tag/mprof.html\n",
    "\n",
    "https://timothymonteath.com/monitoring-memory-usage-in-jupyter-notebooks/\n",
    "\n",
    "https://jakevdp.github.io/PythonDataScienceHandbook/01.07-timing-and-profiling.html"
   ]
  },
  {
   "cell_type": "markdown",
   "metadata": {},
   "source": [
    "# memory_profiler\n",
    "\n",
    "\n",
    "- cprofile (x) \n",
    "\n",
    "> python -m memory_profiler xxxxx.py\n",
    "\n",
    "> @profile before function\n",
    "\n",
    "- cumulative (x) \n",
    "\n",
    "> python -m cProfile -s cumulative xxxxx.py \n",
    "\n",
    "- mprof (terminal)\n",
    "\n",
    "> mprof run --python python2.7 xxxxx.py\n",
    "\n",
    "> mprof plot\n",
    "\n",
    "## memit (only for ipython)"
   ]
  },
  {
   "cell_type": "code",
   "execution_count": 1,
   "metadata": {},
   "outputs": [
    {
     "name": "stdout",
     "output_type": "stream",
     "text": [
      "peak memory: 39.24 MiB, increment: 0.16 MiB\n"
     ]
    }
   ],
   "source": [
    "%load_ext memory_profiler\n",
    "%memit range(100)"
   ]
  },
  {
   "cell_type": "markdown",
   "metadata": {},
   "source": [
    "# sys\n",
    "\n",
    "check memory usage\n",
    "\n",
    "- sys\n",
    "> getsizeof() : return in bytes"
   ]
  },
  {
   "cell_type": "code",
   "execution_count": 5,
   "metadata": {},
   "outputs": [
    {
     "data": {
      "text/plain": [
       "80"
      ]
     },
     "execution_count": 5,
     "metadata": {},
     "output_type": "execute_result"
    }
   ],
   "source": [
    "import sys\n",
    "sys.getsizeof(range(1))"
   ]
  },
  {
   "cell_type": "markdown",
   "metadata": {},
   "source": [
    "# guppy\n",
    "\n",
    "- heap() "
   ]
  },
  {
   "cell_type": "code",
   "execution_count": 3,
   "metadata": {},
   "outputs": [
    {
     "name": "stdout",
     "output_type": "stream",
     "text": [
      "Partition of a set of 187823 objects. Total size = 25729784 bytes.\n",
      " Index  Count   %     Size   % Cumulative  % Kind (class / dict of class)\n",
      "     0  81976  44  7414072  29   7414072  29 str\n",
      "     1  45656  24  3844736  15  11258808  44 tuple\n",
      "     2   2326   1  1908880   7  13167688  51 dict (no owner)\n",
      "     3    598   0  1641232   6  14808920  58 dict of module\n",
      "     4  10758   6  1377024   5  16185944  63 types.CodeType\n",
      "     5  10492   6  1259040   5  17444984  68 function\n",
      "     6   1163   1  1051000   4  18495984  72 type\n",
      "     7   1163   1   989192   4  19485176  76 dict of type\n",
      "     8   6380   3   748576   3  20233752  79 unicode\n",
      "     9   3244   2   500512   2  20734264  81 list\n",
      "<701 more rows. Type e.g. '_.more' to view.>\n"
     ]
    }
   ],
   "source": [
    "from guppy import hpy \n",
    "h = hpy() \n",
    "print h.heap()"
   ]
  }
 ],
 "metadata": {
  "kernelspec": {
   "display_name": "Python 2",
   "language": "python",
   "name": "python2"
  },
  "language_info": {
   "codemirror_mode": {
    "name": "ipython",
    "version": 2
   },
   "file_extension": ".py",
   "mimetype": "text/x-python",
   "name": "python",
   "nbconvert_exporter": "python",
   "pygments_lexer": "ipython2",
   "version": "2.7.13"
  }
 },
 "nbformat": 4,
 "nbformat_minor": 2
}
