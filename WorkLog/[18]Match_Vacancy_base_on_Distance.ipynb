{
 "cells": [
  {
   "cell_type": "markdown",
   "metadata": {},
   "source": [
    "# Get Vacancy by Radius\n",
    "\n",
    "### 12/31/17\n",
    "\n",
    "- get vacantOSMNX_1516KenhillAve1800_123117\n",
    "\n",
    "### 12/30/17\n",
    "\n",
    "- get vacantOSMNX_1516KenhillAve1200_123017\n",
    "\n",
    "- get vacantOSMNX_1516KenhillAve1300_123017\n",
    "\n",
    "### 12/29/17\n",
    "\n",
    "- get vacantOSMNX_1516KenhillAve1000_122917\n",
    "\n",
    "- get vacantOSMNX_1516KenhillAve1100_122917\n",
    "\n",
    "### 12/28/17\n",
    "\n",
    "- delete Set Edge\n",
    "\n",
    "- get vacantOSMNX_1516KenhillAve800_122817\n",
    "\n",
    "- get vacantOSMNX_1516KenhillAve900_122917"
   ]
  },
  {
   "cell_type": "code",
   "execution_count": null,
   "metadata": {},
   "outputs": [],
   "source": [
    "# get clean vacant\n",
    "import csv\n",
    "import pandas as pd\n",
    "import time\n",
    "vacant_Baltimore = pd.read_csv('CleanDataBase/vacantBaltimore_171117_8000.csv',sep='\\t') # create header later\n",
    "vacant_Baltimore = vacant_Baltimore.drop(\"Unnamed: 0\", 1)\n",
    "\n",
    "# clean street name\n",
    "vacant_Baltimore.loc[:,\"street\"] = vacant_Baltimore.loc[:,\"street\"].str[1:-1]\n",
    "print \"number of Vacancy in db25:\", len(vacant_Baltimore)"
   ]
  },
  {
   "cell_type": "code",
   "execution_count": null,
   "metadata": {},
   "outputs": [],
   "source": [
    "# get osmnx GEOdataframe\n",
    "import osmnx as ox\n",
    "address = '1516 Kenhill Ave, Baltimore, MD'\n",
    "radius = 1800\n",
    "gdf = ox.buildings_from_address(address, distance=radius)\n",
    "\n",
    "print \"Address:\", address\n",
    "print \"radius\", radius\n",
    "print \"number of buildings from osmnx:\", len(gdf)"
   ]
  },
  {
   "cell_type": "code",
   "execution_count": null,
   "metadata": {},
   "outputs": [],
   "source": [
    "## check iff street is not null and building type is yes\n",
    "result = pd.concat([gdf[\"addr:street\"].isnull() == False, gdf[\"building\"] == \"yes\" ], axis=1)\n",
    "result[\"sum\"] = result[\"addr:street\"] & result[\"building\"]\n",
    "street_gdf = gdf[result[\"sum\"]]\n",
    "\n",
    "print \"number of buildings with street name is not null:\", len(street_gdf)"
   ]
  },
  {
   "cell_type": "code",
   "execution_count": null,
   "metadata": {
    "collapsed": true
   },
   "outputs": [],
   "source": [
    "def vacant_generator(i,j):\n",
    "    \n",
    "    while i < len(street_gdf.index):\n",
    "        while j < len(vacant_Baltimore.index):\n",
    "            if (street_gdf['addr:street'][street_gdf.index[i]] == vacant_Baltimore['street'][vacant_Baltimore.index[j]] and \n",
    "                street_gdf['addr:housenumber'][street_gdf.index[i]] == vacant_Baltimore['housenumber'][vacant_Baltimore.index[j]]):\n",
    "                \n",
    "                yield street_gdf.index[i],vacant_Baltimore.index[j], street_gdf['addr:street'][street_gdf.index[i]], street_gdf['addr:housenumber'][street_gdf.index[i]]\n",
    "            yield street_gdf.index[i],vacant_Baltimore.index[j],None,None\n",
    "            j += 1\n",
    "        \n",
    "        if i%1000==0:\n",
    "            print i\n",
    "            \n",
    "        i += 1\n",
    "        j = 0\n",
    "        \n",
    "                #m.gdf.loc[i,'housetype'] = 2\n",
    "            #elif m.gdf['housetype'][i] == 2:\n",
    "                #m.gdf.loc[i,'housetype'] = 1"
   ]
  },
  {
   "cell_type": "code",
   "execution_count": null,
   "metadata": {
    "scrolled": true
   },
   "outputs": [],
   "source": [
    "vacantOSMNX = []\n",
    "vacantdb25 = []\n",
    "s = time.time()\n",
    "for i,j,street,housenumber in vacant_generator(0,0):\n",
    "    if street != None:\n",
    "        print street, housenumber, i, j\n",
    "        vacantOSMNX.append(i)\n",
    "        vacantdb25.append(j)\n",
    "print \"get\", len(vacantOSMNX), \"houses using\", time.time() - s, \"s\""
   ]
  },
  {
   "cell_type": "code",
   "execution_count": null,
   "metadata": {},
   "outputs": [],
   "source": [
    "print (time.time() - s)/60 , \"mins\""
   ]
  },
  {
   "cell_type": "code",
   "execution_count": null,
   "metadata": {},
   "outputs": [],
   "source": [
    "len(vacantdb25)"
   ]
  },
  {
   "cell_type": "code",
   "execution_count": null,
   "metadata": {
    "collapsed": true
   },
   "outputs": [],
   "source": [
    "# write data into csv\n",
    "with open('VacantSet-OSMNX/vacantOSMNX_1516KenhillAve1800_123117', 'wb') as myfile:\n",
    "    wr = csv.writer(myfile, quoting=csv.QUOTE_ALL)\n",
    "    wr.writerow(vacantOSMNX)\n",
    "    \n",
    "\"\"\"\n",
    "# Read data from csv\n",
    "with open('vacantOSMNX_Baltimore_171117', 'rb') as f:\n",
    "    reader = csv.reader(f)\n",
    "    your_list = map(int,list(reader)[0])\n",
    "\"\"\" ;"
   ]
  },
  {
   "cell_type": "markdown",
   "metadata": {},
   "source": [
    "# Record"
   ]
  },
  {
   "cell_type": "raw",
   "metadata": {},
   "source": [
    "--------------------------------_1516KenhillAve900_122917 ---------------------------------------\n",
    "\n",
    "len(vacantdb25) = 425\n",
    "31.5053432663 mins\n",
    "\n",
    "--------------------------------_1516KenhillAve1000_122917--------------------------------\n",
    "\n",
    "len(vacantdb25) = 563\n",
    "42.3836955667 mins\n",
    "\n",
    "--------------------------------_1516KenhillAve1100_122917--------------------------------\n",
    "\n",
    "len(vacantdb25) = 711\n",
    "49.5957633177 mins\n",
    "\n",
    "\n",
    "--------------------------------_1516KenhillAve1200_123017--------------------------------\n",
    "\n",
    "len(vacantdb25) = 809\n",
    "62.7756822507 mins\n",
    "\n",
    "--------------------------------_1516KenhillAve1300_123017--------------------------------\n",
    "\n",
    "number of buildings from osmnx: 13571\n",
    "len(vacantdb25) = 969\n",
    "72.5033149322 mins\n",
    "\n",
    "\n",
    "--------------------------------_1516KenhillAve1800_123117--------------------------------\n",
    "\n",
    "len(vacantdb25) = 1670\n",
    "147.911968998 mins"
   ]
  }
 ],
 "metadata": {
  "kernelspec": {
   "display_name": "Python 2",
   "language": "python",
   "name": "python2"
  },
  "language_info": {
   "codemirror_mode": {
    "name": "ipython",
    "version": 2
   },
   "file_extension": ".py",
   "mimetype": "text/x-python",
   "name": "python",
   "nbconvert_exporter": "python",
   "pygments_lexer": "ipython2",
   "version": "2.7.13"
  }
 },
 "nbformat": 4,
 "nbformat_minor": 2
}
